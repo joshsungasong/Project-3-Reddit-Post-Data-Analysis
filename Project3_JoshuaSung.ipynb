{
 "cells": [
  {
   "cell_type": "markdown",
   "metadata": {},
   "source": [
    "# Project 3\n"
   ]
  },
  {
   "cell_type": "markdown",
   "metadata": {},
   "source": [
    "### Problem statement:\n",
    "#### What characteristics of a post on Reddit contribute most to the overall interaction (as measured by number of comments)?"
   ]
  },
  {
   "cell_type": "markdown",
   "metadata": {},
   "source": [
    "### Objective\n",
    "\n",
    "- How can we create a Reddit post that will get the most engagement from Reddit users?\n",
    "\n",
    "- What would be a compelling story on a Reddit post?\n"
   ]
  },
  {
   "cell_type": "code",
   "execution_count": 479,
   "metadata": {
    "collapsed": true
   },
   "outputs": [],
   "source": [
    "import requests\n",
    "from bs4 import BeautifulSoup\n",
    "import numpy as np\n",
    "import scipy.stats as stats\n",
    "import seaborn as sns\n",
    "import pandas as pd\n",
    "\n",
    "sns.set_style('whitegrid')\n",
    "\n",
    "%config InlineBackend.figure_format = 'retina'\n",
    "%matplotlib inline"
   ]
  },
  {
   "cell_type": "markdown",
   "metadata": {},
   "source": [
    "To be able to scrap Reddit, I had to identify the correct tags on Reddit to pull the data from. I used the Developer Tools option on Google Chrome extensively to correctly identify from which tags I need to pull the information. I want to pull from each post to pull the necessary information and then loop it over each page and through each page. In addition to the four required attributes, I wanted to look at upvotes as it could be a useful variable to use. "
   ]
  },
  {
   "cell_type": "code",
   "execution_count": 14,
   "metadata": {
    "collapsed": true
   },
   "outputs": [],
   "source": [
    "reddit = pd.DataFrame(columns={'Titles', 'Time', 'Subreddits', 'Comments', 'Upvotes'})\n",
    "end_page=''\n",
    "for x in range(200):\n",
    "    try:\n",
    "        url = \"https://www.reddit.com/r/all\"+end_page \n",
    "        response = requests.get(url, headers = {'User-agent': 'Sung'}) \n",
    "        html = response.text \n",
    "        soup = BeautifulSoup(html, 'lxml') \n",
    "        titles = [title.text for title in soup.find_all('a', attrs = {'data-event-action':'title'})]\n",
    "        tags = import requests\n",
    "from bs4 import BeautifulSoup\n",
    "        comments = [tag['data-comments-count'] for tag in tags] \n",
    "        upvotes = [tag['data-score'] for tag in tags] \n",
    "        subreddits = [tag['data-subreddit'] for tag in tags] \n",
    "        times = [tag['data-timestamp'] for tag in tags] \n",
    "        end_tags = soup.find_all('div', {'class':'reportform'}) #Credit: Austin Lasseter\n",
    "        last_tag=end_tags[24]['class'][1].split('-')[1] #Credit: Austin Lasseter\n",
    "        end_page=\"?count=25&after=\"+last_tag #Credit: Austin Lasseter\n",
    "        df = pd.DataFrame({'Titles':titles, 'Time':times,'Subreddits':subreddits, \n",
    "                           'Comments':comments, 'Upvotes':upvotes})\n",
    "        reddit = reddit.append(df)\n",
    "        reddit.to_csv('reddit.csv')\n",
    "        \n",
    "    except:\n",
    "        pass"
   ]
  },
  {
   "cell_type": "markdown",
   "metadata": {},
   "source": [
    "### Now let's import the CSV."
   ]
  },
  {
   "cell_type": "code",
   "execution_count": 480,
   "metadata": {},
   "outputs": [
    {
     "data": {
      "text/html": [
       "<div>\n",
       "<style>\n",
       "    .dataframe thead tr:only-child th {\n",
       "        text-align: right;\n",
       "    }\n",
       "\n",
       "    .dataframe thead th {\n",
       "        text-align: left;\n",
       "    }\n",
       "\n",
       "    .dataframe tbody tr th {\n",
       "        vertical-align: top;\n",
       "    }\n",
       "</style>\n",
       "<table border=\"1\" class=\"dataframe\">\n",
       "  <thead>\n",
       "    <tr style=\"text-align: right;\">\n",
       "      <th></th>\n",
       "      <th>Comments</th>\n",
       "      <th>Subreddits</th>\n",
       "      <th>Time</th>\n",
       "      <th>Titles</th>\n",
       "      <th>Upvotes</th>\n",
       "    </tr>\n",
       "  </thead>\n",
       "  <tbody>\n",
       "    <tr>\n",
       "      <th>0</th>\n",
       "      <td>859</td>\n",
       "      <td>todayilearned</td>\n",
       "      <td>1519176061000</td>\n",
       "      <td>TIL that comedian Ryan Stiles from Whose Line ...</td>\n",
       "      <td>51985</td>\n",
       "    </tr>\n",
       "    <tr>\n",
       "      <th>1</th>\n",
       "      <td>301</td>\n",
       "      <td>NintendoSwitch</td>\n",
       "      <td>1519183023000</td>\n",
       "      <td>Less 'rip and tear', more 'post and snark'...</td>\n",
       "      <td>8222</td>\n",
       "    </tr>\n",
       "    <tr>\n",
       "      <th>2</th>\n",
       "      <td>446</td>\n",
       "      <td>videos</td>\n",
       "      <td>1519179050000</td>\n",
       "      <td>Heavy rain leaves trail under cristaline water...</td>\n",
       "      <td>10445</td>\n",
       "    </tr>\n",
       "    <tr>\n",
       "      <th>3</th>\n",
       "      <td>714</td>\n",
       "      <td>gaming</td>\n",
       "      <td>1519176342000</td>\n",
       "      <td>Modern Warfare 2</td>\n",
       "      <td>18943</td>\n",
       "    </tr>\n",
       "    <tr>\n",
       "      <th>4</th>\n",
       "      <td>395</td>\n",
       "      <td>gifs</td>\n",
       "      <td>1519174819000</td>\n",
       "      <td>Shocking Artistry...</td>\n",
       "      <td>25855</td>\n",
       "    </tr>\n",
       "  </tbody>\n",
       "</table>\n",
       "</div>"
      ],
      "text/plain": [
       "   Comments      Subreddits           Time  \\\n",
       "0       859   todayilearned  1519176061000   \n",
       "1       301  NintendoSwitch  1519183023000   \n",
       "2       446          videos  1519179050000   \n",
       "3       714          gaming  1519176342000   \n",
       "4       395            gifs  1519174819000   \n",
       "\n",
       "                                              Titles  Upvotes  \n",
       "0  TIL that comedian Ryan Stiles from Whose Line ...    51985  \n",
       "1      Less 'rip and tear', more 'post and snark'...     8222  \n",
       "2  Heavy rain leaves trail under cristaline water...    10445  \n",
       "3                                   Modern Warfare 2    18943  \n",
       "4                               Shocking Artistry...    25855  "
      ]
     },
     "execution_count": 480,
     "metadata": {},
     "output_type": "execute_result"
    }
   ],
   "source": [
    "reddit = pd.read_csv('reddit.csv', index_col='Unnamed: 0')\n",
    "reddit.head()"
   ]
  },
  {
   "cell_type": "markdown",
   "metadata": {},
   "source": [
    "### Let's clean/munge the data"
   ]
  },
  {
   "cell_type": "code",
   "execution_count": 481,
   "metadata": {},
   "outputs": [
    {
     "name": "stdout",
     "output_type": "stream",
     "text": [
      "missing values \n",
      " Comments      0\n",
      "Subreddits    0\n",
      "Time          0\n",
      "Titles        0\n",
      "Upvotes       0\n",
      "dtype: int64\n",
      "dataframe index \n",
      " Int64Index([ 0,  1,  2,  3,  4,  5,  6,  7,  8,  9,\n",
      "            ...\n",
      "            15, 16, 17, 18, 19, 20, 21, 22, 23, 24],\n",
      "           dtype='int64', length=5000)\n",
      "dataframe types \n",
      " Comments       int64\n",
      "Subreddits    object\n",
      "Time           int64\n",
      "Titles        object\n",
      "Upvotes        int64\n",
      "dtype: object\n",
      "dataframe shape \n",
      " (5000, 5)\n",
      "dataframe describe \n",
      "            Comments          Time       Upvotes\n",
      "count   5000.000000  5.000000e+03   5000.000000\n",
      "mean      91.946000  1.519159e+12   1811.405600\n",
      "std      384.787602  1.683389e+07   6125.604844\n",
      "min        0.000000  1.519108e+12      5.000000\n",
      "25%        8.000000  1.519146e+12    122.000000\n",
      "50%       22.000000  1.519160e+12    286.000000\n",
      "75%       60.000000  1.519173e+12    821.500000\n",
      "max    13454.000000  1.519191e+12  97968.000000\n",
      "Comments\n",
      "484\n",
      "Subreddits\n",
      "1918\n",
      "Time\n",
      "4678\n",
      "Titles\n",
      "4753\n",
      "Upvotes\n",
      "1806\n"
     ]
    }
   ],
   "source": [
    "def eda(dataframe): #Credit: Ritika Bhasker, DSI alum\n",
    "    print (\"missing values \\n\", dataframe.isnull().sum())\n",
    "    print (\"dataframe index \\n\", dataframe.index)\n",
    "    print (\"dataframe types \\n\", dataframe.dtypes)\n",
    "    print (\"dataframe shape \\n\", dataframe.shape)\n",
    "    print (\"dataframe describe \\n\", dataframe.describe())\n",
    "    for item in dataframe:\n",
    "        print (item)\n",
    "        print (dataframe[item].nunique())\n",
    "eda(reddit)"
   ]
  },
  {
   "cell_type": "markdown",
   "metadata": {},
   "source": [
    "Looks like the web scraper pulled 5000 observations. Are these 5000 distinct observations (i.e. different subreddits and titles)? We will find out later."
   ]
  },
  {
   "cell_type": "code",
   "execution_count": 482,
   "metadata": {},
   "outputs": [
    {
     "data": {
      "text/plain": [
       "(5000, 5)"
      ]
     },
     "execution_count": 482,
     "metadata": {},
     "output_type": "execute_result"
    }
   ],
   "source": [
    "reddit.shape "
   ]
  },
  {
   "cell_type": "markdown",
   "metadata": {},
   "source": [
    "Now the time is in UNIX time, or the number of seconds since January 1, 1970. We want to convert this to a regular time, thus I will use the Pandas datetime method and set the units to ms."
   ]
  },
  {
   "cell_type": "code",
   "execution_count": 483,
   "metadata": {
    "collapsed": true
   },
   "outputs": [],
   "source": [
    "reddit['Time']=(pd.to_datetime(reddit['Time'],unit='ms')) "
   ]
  },
  {
   "cell_type": "markdown",
   "metadata": {},
   "source": [
    "Now we want to conver this time into US eastern time zone time."
   ]
  },
  {
   "cell_type": "code",
   "execution_count": 484,
   "metadata": {
    "collapsed": true
   },
   "outputs": [],
   "source": [
    "reddit['Time'] = reddit['Time'].dt.tz_localize('UTC').dt.tz_convert('US/Eastern') "
   ]
  },
  {
   "cell_type": "markdown",
   "metadata": {},
   "source": [
    "That worked! But the time seems off. We'll deal with that later. Let's look at possible duplicate observations."
   ]
  },
  {
   "cell_type": "code",
   "execution_count": 486,
   "metadata": {},
   "outputs": [
    {
     "data": {
      "text/html": [
       "<div>\n",
       "<style>\n",
       "    .dataframe thead tr:only-child th {\n",
       "        text-align: right;\n",
       "    }\n",
       "\n",
       "    .dataframe thead th {\n",
       "        text-align: left;\n",
       "    }\n",
       "\n",
       "    .dataframe tbody tr th {\n",
       "        vertical-align: top;\n",
       "    }\n",
       "</style>\n",
       "<table border=\"1\" class=\"dataframe\">\n",
       "  <thead>\n",
       "    <tr style=\"text-align: right;\">\n",
       "      <th></th>\n",
       "      <th>Comments</th>\n",
       "      <th>Subreddits</th>\n",
       "      <th>Time</th>\n",
       "      <th>Titles</th>\n",
       "      <th>Upvotes</th>\n",
       "    </tr>\n",
       "  </thead>\n",
       "  <tbody>\n",
       "    <tr>\n",
       "      <th>0</th>\n",
       "      <td>859</td>\n",
       "      <td>todayilearned</td>\n",
       "      <td>2018-02-20 20:21:01-05:00</td>\n",
       "      <td>TIL that comedian Ryan Stiles from Whose Line ...</td>\n",
       "      <td>51985</td>\n",
       "    </tr>\n",
       "    <tr>\n",
       "      <th>1</th>\n",
       "      <td>301</td>\n",
       "      <td>NintendoSwitch</td>\n",
       "      <td>2018-02-20 22:17:03-05:00</td>\n",
       "      <td>Less 'rip and tear', more 'post and snark'...</td>\n",
       "      <td>8222</td>\n",
       "    </tr>\n",
       "    <tr>\n",
       "      <th>2</th>\n",
       "      <td>446</td>\n",
       "      <td>videos</td>\n",
       "      <td>2018-02-20 21:10:50-05:00</td>\n",
       "      <td>Heavy rain leaves trail under cristaline water...</td>\n",
       "      <td>10445</td>\n",
       "    </tr>\n",
       "    <tr>\n",
       "      <th>3</th>\n",
       "      <td>714</td>\n",
       "      <td>gaming</td>\n",
       "      <td>2018-02-20 20:25:42-05:00</td>\n",
       "      <td>Modern Warfare 2</td>\n",
       "      <td>18943</td>\n",
       "    </tr>\n",
       "    <tr>\n",
       "      <th>4</th>\n",
       "      <td>395</td>\n",
       "      <td>gifs</td>\n",
       "      <td>2018-02-20 20:00:19-05:00</td>\n",
       "      <td>Shocking Artistry...</td>\n",
       "      <td>25855</td>\n",
       "    </tr>\n",
       "  </tbody>\n",
       "</table>\n",
       "</div>"
      ],
      "text/plain": [
       "   Comments      Subreddits                      Time  \\\n",
       "0       859   todayilearned 2018-02-20 20:21:01-05:00   \n",
       "1       301  NintendoSwitch 2018-02-20 22:17:03-05:00   \n",
       "2       446          videos 2018-02-20 21:10:50-05:00   \n",
       "3       714          gaming 2018-02-20 20:25:42-05:00   \n",
       "4       395            gifs 2018-02-20 20:00:19-05:00   \n",
       "\n",
       "                                              Titles  Upvotes  \n",
       "0  TIL that comedian Ryan Stiles from Whose Line ...    51985  \n",
       "1      Less 'rip and tear', more 'post and snark'...     8222  \n",
       "2  Heavy rain leaves trail under cristaline water...    10445  \n",
       "3                                   Modern Warfare 2    18943  \n",
       "4                               Shocking Artistry...    25855  "
      ]
     },
     "execution_count": 486,
     "metadata": {},
     "output_type": "execute_result"
    }
   ],
   "source": [
    "reddit.head()"
   ]
  },
  {
   "cell_type": "markdown",
   "metadata": {},
   "source": [
    "I am seeing the predictor variables to be the number of likes, the number of subreddits, the words in a post's title, and the time the Reddit post was uploaded on Reddit. The response variable will be the number of comments of a Reddit post."
   ]
  },
  {
   "cell_type": "markdown",
   "metadata": {},
   "source": [
    "As said before, let's remove any duplicate posts that we have with the same exact titles and subreddits."
   ]
  },
  {
   "cell_type": "code",
   "execution_count": 487,
   "metadata": {},
   "outputs": [
    {
     "data": {
      "text/plain": [
       "1918"
      ]
     },
     "execution_count": 487,
     "metadata": {},
     "output_type": "execute_result"
    }
   ],
   "source": [
    "reddit['Subreddits'].nunique() #how many unique subreddits do we have? "
   ]
  },
  {
   "cell_type": "code",
   "execution_count": 488,
   "metadata": {},
   "outputs": [
    {
     "data": {
      "text/plain": [
       "5000"
      ]
     },
     "execution_count": 488,
     "metadata": {},
     "output_type": "execute_result"
    }
   ],
   "source": [
    "reddit['Subreddits'].value_counts().sum() #how many total subreddits do we have? "
   ]
  },
  {
   "cell_type": "code",
   "execution_count": 489,
   "metadata": {},
   "outputs": [
    {
     "data": {
      "text/plain": [
       "4753"
      ]
     },
     "execution_count": 489,
     "metadata": {},
     "output_type": "execute_result"
    }
   ],
   "source": [
    "reddit['Titles'].nunique() #how many unique titles do we have? "
   ]
  },
  {
   "cell_type": "markdown",
   "metadata": {},
   "source": [
    "Okay I have 173 duplicates out of 5000 observations. That's not too bad!"
   ]
  },
  {
   "cell_type": "code",
   "execution_count": 539,
   "metadata": {},
   "outputs": [
    {
     "data": {
      "text/plain": [
       "0"
      ]
     },
     "execution_count": 539,
     "metadata": {},
     "output_type": "execute_result"
    }
   ],
   "source": [
    "reddit[['Titles', 'Subreddits']].duplicated().sum() "
   ]
  },
  {
   "cell_type": "code",
   "execution_count": 491,
   "metadata": {},
   "outputs": [
    {
     "data": {
      "text/plain": [
       "(4827, 5)"
      ]
     },
     "execution_count": 491,
     "metadata": {},
     "output_type": "execute_result"
    }
   ],
   "source": [
    "reddit = reddit.drop_duplicates(subset=['Titles', 'Subreddits'], keep='last', inplace=False) #dropping those \n",
    "#duplicates\n",
    "reddit.head()\n",
    "reddit.shape #now I see those specific rows have been dropped\n",
    "\n",
    "#Credit:Hector Ian Martinez"
   ]
  },
  {
   "cell_type": "code",
   "execution_count": 740,
   "metadata": {},
   "outputs": [
    {
     "data": {
      "text/plain": [
       "24            zuckmemes\n",
       "5              zoidberg\n",
       "24                zelda\n",
       "8                 zelda\n",
       "21                zelda\n",
       "0          youtubehaiku\n",
       "1          youtubehaiku\n",
       "21         youtubehaiku\n",
       "22         youtubehaiku\n",
       "10         youtubehaiku\n",
       "13         youtubehaiku\n",
       "8          youtubehaiku\n",
       "23              youtube\n",
       "18    youseeingthisshit\n",
       "0     youseeingthisshit\n",
       "0     youseeingthisshit\n",
       "14    youseeingthisshit\n",
       "1          youngjustice\n",
       "15          youdontsurf\n",
       "18       yesyesyesyesno\n",
       "14          yesyesyesno\n",
       "10           yarntrolls\n",
       "7             xxfitness\n",
       "14                 xmen\n",
       "10                 xkcd\n",
       "Name: Subreddits, dtype: object"
      ]
     },
     "execution_count": 740,
     "metadata": {},
     "output_type": "execute_result"
    }
   ],
   "source": [
    "reddit['Subreddits'].sort_values(ascending=False).head(25) #just seeing the top 25 subreddits"
   ]
  },
  {
   "cell_type": "code",
   "execution_count": 493,
   "metadata": {},
   "outputs": [
    {
     "data": {
      "text/plain": [
       "72     22\n",
       "65     21\n",
       "36     21\n",
       "64     20\n",
       "116    19\n",
       "131    19\n",
       "53     18\n",
       "105    18\n",
       "43     18\n",
       "62     18\n",
       "33     18\n",
       "83     18\n",
       "39     18\n",
       "74     18\n",
       "191    17\n",
       "37     17\n",
       "63     17\n",
       "70     17\n",
       "96     17\n",
       "79     17\n",
       "58     16\n",
       "113    16\n",
       "137    16\n",
       "90     16\n",
       "190    16\n",
       "Name: Upvotes, dtype: int64"
      ]
     },
     "execution_count": 493,
     "metadata": {},
     "output_type": "execute_result"
    }
   ],
   "source": [
    "reddit.Upvotes.value_counts(ascending=False).head(25) #just seeing the number of upvotes for each Reddit post\n",
    "#using value counts in descending order. "
   ]
  },
  {
   "cell_type": "code",
   "execution_count": 494,
   "metadata": {},
   "outputs": [
    {
     "data": {
      "text/plain": [
       "3     171\n",
       "2     163\n",
       "4     154\n",
       "8     147\n",
       "6     141\n",
       "5     139\n",
       "1     128\n",
       "9     126\n",
       "7     119\n",
       "12    110\n",
       "11    109\n",
       "10    108\n",
       "13     98\n",
       "15     96\n",
       "14     88\n",
       "16     83\n",
       "19     78\n",
       "17     76\n",
       "18     75\n",
       "22     74\n",
       "0      73\n",
       "25     67\n",
       "21     62\n",
       "27     59\n",
       "24     59\n",
       "Name: Comments, dtype: int64"
      ]
     },
     "execution_count": 494,
     "metadata": {},
     "output_type": "execute_result"
    }
   ],
   "source": [
    "reddit.Comments.value_counts(ascending=False).head(25) #just seeing the distribution of the number of comments\n",
    "#using value counts in descending order. "
   ]
  },
  {
   "cell_type": "markdown",
   "metadata": {},
   "source": [
    "I want to create a feature indicating whether the number of comments are above or below the median value of commentssince the distribution is skewed, let's use median as it is a more robust measure of central tendency than mean is since it is affected more by outliers. Median is 22. "
   ]
  },
  {
   "cell_type": "code",
   "execution_count": 496,
   "metadata": {
    "collapsed": true
   },
   "outputs": [],
   "source": [
    "med_comments = reddit['Comments'].median() \n",
    "reddit['Above_Below_Median'] = np.where(reddit['Comments']>=med_comments, 'Above', 'Below')"
   ]
  },
  {
   "cell_type": "code",
   "execution_count": 499,
   "metadata": {},
   "outputs": [
    {
     "data": {
      "text/plain": [
       "Above    0.503833\n",
       "Below    0.496167\n",
       "Name: Above_Below_Median, dtype: float64"
      ]
     },
     "execution_count": 499,
     "metadata": {},
     "output_type": "execute_result"
    }
   ],
   "source": [
    "med_dist = reddit['Above_Below_Median'].value_counts()/len(reddit)\n",
    "med_dist"
   ]
  },
  {
   "cell_type": "markdown",
   "metadata": {},
   "source": [
    "Okay, we have slightly above 50% Reddit posts that have more than the median number of comments. It just confirms that we have so many Reddit posts in this sample that have a low number of comments. Just for fun, let's look at the designation using the mean number of comments instead."
   ]
  },
  {
   "cell_type": "code",
   "execution_count": 505,
   "metadata": {
    "collapsed": true
   },
   "outputs": [],
   "source": [
    "avg_comments = reddit['Comments'].mean() \n",
    "reddit['Above_Below_Mean'] = np.where(reddit['Comments']>=avg_comments, 'Above', 'Below')"
   ]
  },
  {
   "cell_type": "code",
   "execution_count": 507,
   "metadata": {},
   "outputs": [
    {
     "data": {
      "text/plain": [
       "Below    0.8237\n",
       "Above    0.1763\n",
       "Name: Above_Below_Mean, dtype: float64"
      ]
     },
     "execution_count": 507,
     "metadata": {},
     "output_type": "execute_result"
    }
   ],
   "source": [
    "mean_dist = reddit['Above_Below_Mean'].value_counts()/len(reddit)\n",
    "mean_dist"
   ]
  },
  {
   "cell_type": "markdown",
   "metadata": {},
   "source": [
    "Okay, just as we figured. Since there posts on the higher end with regards to the number of comments, the mean is greatly affected by those values. Obviously, we don't want to use this baseline. It's not very relaible with the distribution of the sample here."
   ]
  },
  {
   "cell_type": "markdown",
   "metadata": {},
   "source": [
    "I want to only look at the dates, thus I want to strip the date away from the Time data series."
   ]
  },
  {
   "cell_type": "code",
   "execution_count": 508,
   "metadata": {
    "collapsed": true
   },
   "outputs": [],
   "source": [
    "reddit['Date Only'] = reddit['Time'].apply(lambda x:x.date().strftime('%m-%d-%y'))"
   ]
  },
  {
   "cell_type": "markdown",
   "metadata": {},
   "source": [
    "Let's see how many unique days we have from our sample."
   ]
  },
  {
   "cell_type": "code",
   "execution_count": 510,
   "metadata": {},
   "outputs": [
    {
     "data": {
      "text/plain": [
       "array(['02-20-18', '02-21-18'], dtype=object)"
      ]
     },
     "execution_count": 510,
     "metadata": {},
     "output_type": "execute_result"
    }
   ],
   "source": [
    "reddit['Date Only'].unique()"
   ]
  },
  {
   "cell_type": "markdown",
   "metadata": {},
   "source": [
    "Okay, we only have two unique days. It'll be tough to use this to determine the best day of the week to post a Reddit post. Since I only scrapped on one day instead of multiple days and/or multiple times of day, I will not be able to make a reliable model to determine the \"ideal\" day of the week to upload a Reddit post."
   ]
  },
  {
   "cell_type": "markdown",
   "metadata": {},
   "source": [
    "Instead of days, I want to look at the \"best\" time of the day to post something on Reddit. Using the date-time series to pull the hours, I would like to convert them into the Eastern US time zone by subtracting 5 (the number of hours  between the East Coast and the UK) and then calculating the absolute value of them to remove negative signs."
   ]
  },
  {
   "cell_type": "code",
   "execution_count": 511,
   "metadata": {
    "collapsed": true
   },
   "outputs": [],
   "source": [
    "reddit['Hour of Day'] = np.abs(reddit.Time.dt.hour - 5) "
   ]
  },
  {
   "cell_type": "code",
   "execution_count": 512,
   "metadata": {},
   "outputs": [
    {
     "data": {
      "text/html": [
       "<div>\n",
       "<style>\n",
       "    .dataframe thead tr:only-child th {\n",
       "        text-align: right;\n",
       "    }\n",
       "\n",
       "    .dataframe thead th {\n",
       "        text-align: left;\n",
       "    }\n",
       "\n",
       "    .dataframe tbody tr th {\n",
       "        vertical-align: top;\n",
       "    }\n",
       "</style>\n",
       "<table border=\"1\" class=\"dataframe\">\n",
       "  <thead>\n",
       "    <tr style=\"text-align: right;\">\n",
       "      <th></th>\n",
       "      <th>Comments</th>\n",
       "      <th>Subreddits</th>\n",
       "      <th>Time</th>\n",
       "      <th>Titles</th>\n",
       "      <th>Upvotes</th>\n",
       "      <th>Above_Below_Median</th>\n",
       "      <th>Above_Below_Mean</th>\n",
       "      <th>Date Only</th>\n",
       "      <th>Hour of Day</th>\n",
       "    </tr>\n",
       "  </thead>\n",
       "  <tbody>\n",
       "    <tr>\n",
       "      <th>0</th>\n",
       "      <td>859</td>\n",
       "      <td>todayilearned</td>\n",
       "      <td>2018-02-20 20:21:01-05:00</td>\n",
       "      <td>TIL that comedian Ryan Stiles from Whose Line ...</td>\n",
       "      <td>51985</td>\n",
       "      <td>Above</td>\n",
       "      <td>Above</td>\n",
       "      <td>02-20-18</td>\n",
       "      <td>15</td>\n",
       "    </tr>\n",
       "    <tr>\n",
       "      <th>1</th>\n",
       "      <td>301</td>\n",
       "      <td>NintendoSwitch</td>\n",
       "      <td>2018-02-20 22:17:03-05:00</td>\n",
       "      <td>Less 'rip and tear', more 'post and snark'...</td>\n",
       "      <td>8222</td>\n",
       "      <td>Above</td>\n",
       "      <td>Above</td>\n",
       "      <td>02-20-18</td>\n",
       "      <td>17</td>\n",
       "    </tr>\n",
       "    <tr>\n",
       "      <th>2</th>\n",
       "      <td>446</td>\n",
       "      <td>videos</td>\n",
       "      <td>2018-02-20 21:10:50-05:00</td>\n",
       "      <td>Heavy rain leaves trail under cristaline water...</td>\n",
       "      <td>10445</td>\n",
       "      <td>Above</td>\n",
       "      <td>Above</td>\n",
       "      <td>02-20-18</td>\n",
       "      <td>16</td>\n",
       "    </tr>\n",
       "    <tr>\n",
       "      <th>3</th>\n",
       "      <td>714</td>\n",
       "      <td>gaming</td>\n",
       "      <td>2018-02-20 20:25:42-05:00</td>\n",
       "      <td>Modern Warfare 2</td>\n",
       "      <td>18943</td>\n",
       "      <td>Above</td>\n",
       "      <td>Above</td>\n",
       "      <td>02-20-18</td>\n",
       "      <td>15</td>\n",
       "    </tr>\n",
       "    <tr>\n",
       "      <th>4</th>\n",
       "      <td>395</td>\n",
       "      <td>gifs</td>\n",
       "      <td>2018-02-20 20:00:19-05:00</td>\n",
       "      <td>Shocking Artistry...</td>\n",
       "      <td>25855</td>\n",
       "      <td>Above</td>\n",
       "      <td>Above</td>\n",
       "      <td>02-20-18</td>\n",
       "      <td>15</td>\n",
       "    </tr>\n",
       "  </tbody>\n",
       "</table>\n",
       "</div>"
      ],
      "text/plain": [
       "   Comments      Subreddits                      Time  \\\n",
       "0       859   todayilearned 2018-02-20 20:21:01-05:00   \n",
       "1       301  NintendoSwitch 2018-02-20 22:17:03-05:00   \n",
       "2       446          videos 2018-02-20 21:10:50-05:00   \n",
       "3       714          gaming 2018-02-20 20:25:42-05:00   \n",
       "4       395            gifs 2018-02-20 20:00:19-05:00   \n",
       "\n",
       "                                              Titles  Upvotes  \\\n",
       "0  TIL that comedian Ryan Stiles from Whose Line ...    51985   \n",
       "1      Less 'rip and tear', more 'post and snark'...     8222   \n",
       "2  Heavy rain leaves trail under cristaline water...    10445   \n",
       "3                                   Modern Warfare 2    18943   \n",
       "4                               Shocking Artistry...    25855   \n",
       "\n",
       "  Above_Below_Median Above_Below_Mean Date Only  Hour of Day  \n",
       "0              Above            Above  02-20-18           15  \n",
       "1              Above            Above  02-20-18           17  \n",
       "2              Above            Above  02-20-18           16  \n",
       "3              Above            Above  02-20-18           15  \n",
       "4              Above            Above  02-20-18           15  "
      ]
     },
     "execution_count": 512,
     "metadata": {},
     "output_type": "execute_result"
    }
   ],
   "source": [
    "reddit.head()"
   ]
  },
  {
   "cell_type": "markdown",
   "metadata": {},
   "source": [
    "That worked, but the hours seem off. For example, 2:00 in military time represents 2am. But it was calculated to be 1:00, or 1am. That doesn't make sense.. We will need to run a list comprehension to convert those so any hour less than 5 will have 19 added to it to account for the correct military time. Everything else will have 5 subtracted from it. "
   ]
  },
  {
   "cell_type": "code",
   "execution_count": 513,
   "metadata": {
    "collapsed": true
   },
   "outputs": [],
   "source": [
    "reddit['Hours'] = [x - 5 if x >=5 else x+19 for x in reddit['Hour of Day']]"
   ]
  },
  {
   "cell_type": "markdown",
   "metadata": {},
   "source": [
    "Let's drop the Hour of Day data series, since we don't need it anymore now."
   ]
  },
  {
   "cell_type": "code",
   "execution_count": 540,
   "metadata": {
    "collapsed": true,
    "scrolled": true
   },
   "outputs": [],
   "source": [
    "\n",
    "#reddit.drop(['Hour of Day'], axis=1) \n",
    "\n",
    "#then commenting it out the code after running it so the whole data frame is loaded here."
   ]
  },
  {
   "cell_type": "markdown",
   "metadata": {},
   "source": [
    "### What if we want to categorize the hours of day with morning hours, evening hours, and late night hours and work day hours?"
   ]
  },
  {
   "cell_type": "markdown",
   "metadata": {},
   "source": [
    "I want to go further with time. I want to create four different time ranges including work day hours (9am to 5pm), late night hours (10pm to 3am), morning hours (4am to 9am), and evening/night hours (5pm to 10pm). "
   ]
  },
  {
   "cell_type": "code",
   "execution_count": 515,
   "metadata": {
    "collapsed": true
   },
   "outputs": [],
   "source": [
    "reddit['Work Day Hours'] = reddit['Hours'].apply(lambda x: 1 if x >9 and x <17 else 0)"
   ]
  },
  {
   "cell_type": "code",
   "execution_count": 516,
   "metadata": {
    "collapsed": true
   },
   "outputs": [],
   "source": [
    "reddit['Late Night Hours'] = reddit['Hours'].apply(lambda x: 1 if x<3 and x>22 else 0)"
   ]
  },
  {
   "cell_type": "code",
   "execution_count": 517,
   "metadata": {
    "collapsed": true
   },
   "outputs": [],
   "source": [
    "reddit['Morning Hours'] = reddit['Hours'].apply(lambda x: 1 if x<9 and x>4 else 0)"
   ]
  },
  {
   "cell_type": "code",
   "execution_count": 518,
   "metadata": {
    "collapsed": true
   },
   "outputs": [],
   "source": [
    "reddit['Evening/Night Hours'] = reddit['Hours'].apply(lambda x: 1 if x<10 and x>5 else 0)"
   ]
  },
  {
   "cell_type": "markdown",
   "metadata": {},
   "source": [
    "Let's see if that worked!"
   ]
  },
  {
   "cell_type": "code",
   "execution_count": 519,
   "metadata": {},
   "outputs": [
    {
     "data": {
      "text/html": [
       "<div>\n",
       "<style>\n",
       "    .dataframe thead tr:only-child th {\n",
       "        text-align: right;\n",
       "    }\n",
       "\n",
       "    .dataframe thead th {\n",
       "        text-align: left;\n",
       "    }\n",
       "\n",
       "    .dataframe tbody tr th {\n",
       "        vertical-align: top;\n",
       "    }\n",
       "</style>\n",
       "<table border=\"1\" class=\"dataframe\">\n",
       "  <thead>\n",
       "    <tr style=\"text-align: right;\">\n",
       "      <th></th>\n",
       "      <th>Comments</th>\n",
       "      <th>Subreddits</th>\n",
       "      <th>Time</th>\n",
       "      <th>Titles</th>\n",
       "      <th>Upvotes</th>\n",
       "      <th>Above_Below_Median</th>\n",
       "      <th>Above_Below_Mean</th>\n",
       "      <th>Date Only</th>\n",
       "      <th>Hour of Day</th>\n",
       "      <th>Hours</th>\n",
       "      <th>Work Day Hours</th>\n",
       "      <th>Late Night Hours</th>\n",
       "      <th>Morning Hours</th>\n",
       "      <th>Evening/Night Hours</th>\n",
       "    </tr>\n",
       "  </thead>\n",
       "  <tbody>\n",
       "    <tr>\n",
       "      <th>0</th>\n",
       "      <td>859</td>\n",
       "      <td>todayilearned</td>\n",
       "      <td>2018-02-20 20:21:01-05:00</td>\n",
       "      <td>TIL that comedian Ryan Stiles from Whose Line ...</td>\n",
       "      <td>51985</td>\n",
       "      <td>Above</td>\n",
       "      <td>Above</td>\n",
       "      <td>02-20-18</td>\n",
       "      <td>15</td>\n",
       "      <td>10</td>\n",
       "      <td>1</td>\n",
       "      <td>0</td>\n",
       "      <td>0</td>\n",
       "      <td>0</td>\n",
       "    </tr>\n",
       "    <tr>\n",
       "      <th>1</th>\n",
       "      <td>301</td>\n",
       "      <td>NintendoSwitch</td>\n",
       "      <td>2018-02-20 22:17:03-05:00</td>\n",
       "      <td>Less 'rip and tear', more 'post and snark'...</td>\n",
       "      <td>8222</td>\n",
       "      <td>Above</td>\n",
       "      <td>Above</td>\n",
       "      <td>02-20-18</td>\n",
       "      <td>17</td>\n",
       "      <td>12</td>\n",
       "      <td>1</td>\n",
       "      <td>0</td>\n",
       "      <td>0</td>\n",
       "      <td>0</td>\n",
       "    </tr>\n",
       "    <tr>\n",
       "      <th>2</th>\n",
       "      <td>446</td>\n",
       "      <td>videos</td>\n",
       "      <td>2018-02-20 21:10:50-05:00</td>\n",
       "      <td>Heavy rain leaves trail under cristaline water...</td>\n",
       "      <td>10445</td>\n",
       "      <td>Above</td>\n",
       "      <td>Above</td>\n",
       "      <td>02-20-18</td>\n",
       "      <td>16</td>\n",
       "      <td>11</td>\n",
       "      <td>1</td>\n",
       "      <td>0</td>\n",
       "      <td>0</td>\n",
       "      <td>0</td>\n",
       "    </tr>\n",
       "    <tr>\n",
       "      <th>3</th>\n",
       "      <td>714</td>\n",
       "      <td>gaming</td>\n",
       "      <td>2018-02-20 20:25:42-05:00</td>\n",
       "      <td>Modern Warfare 2</td>\n",
       "      <td>18943</td>\n",
       "      <td>Above</td>\n",
       "      <td>Above</td>\n",
       "      <td>02-20-18</td>\n",
       "      <td>15</td>\n",
       "      <td>10</td>\n",
       "      <td>1</td>\n",
       "      <td>0</td>\n",
       "      <td>0</td>\n",
       "      <td>0</td>\n",
       "    </tr>\n",
       "    <tr>\n",
       "      <th>4</th>\n",
       "      <td>395</td>\n",
       "      <td>gifs</td>\n",
       "      <td>2018-02-20 20:00:19-05:00</td>\n",
       "      <td>Shocking Artistry...</td>\n",
       "      <td>25855</td>\n",
       "      <td>Above</td>\n",
       "      <td>Above</td>\n",
       "      <td>02-20-18</td>\n",
       "      <td>15</td>\n",
       "      <td>10</td>\n",
       "      <td>1</td>\n",
       "      <td>0</td>\n",
       "      <td>0</td>\n",
       "      <td>0</td>\n",
       "    </tr>\n",
       "  </tbody>\n",
       "</table>\n",
       "</div>"
      ],
      "text/plain": [
       "   Comments      Subreddits                      Time  \\\n",
       "0       859   todayilearned 2018-02-20 20:21:01-05:00   \n",
       "1       301  NintendoSwitch 2018-02-20 22:17:03-05:00   \n",
       "2       446          videos 2018-02-20 21:10:50-05:00   \n",
       "3       714          gaming 2018-02-20 20:25:42-05:00   \n",
       "4       395            gifs 2018-02-20 20:00:19-05:00   \n",
       "\n",
       "                                              Titles  Upvotes  \\\n",
       "0  TIL that comedian Ryan Stiles from Whose Line ...    51985   \n",
       "1      Less 'rip and tear', more 'post and snark'...     8222   \n",
       "2  Heavy rain leaves trail under cristaline water...    10445   \n",
       "3                                   Modern Warfare 2    18943   \n",
       "4                               Shocking Artistry...    25855   \n",
       "\n",
       "  Above_Below_Median Above_Below_Mean Date Only  Hour of Day  Hours  \\\n",
       "0              Above            Above  02-20-18           15     10   \n",
       "1              Above            Above  02-20-18           17     12   \n",
       "2              Above            Above  02-20-18           16     11   \n",
       "3              Above            Above  02-20-18           15     10   \n",
       "4              Above            Above  02-20-18           15     10   \n",
       "\n",
       "   Work Day Hours  Late Night Hours  Morning Hours  Evening/Night Hours  \n",
       "0               1                 0              0                    0  \n",
       "1               1                 0              0                    0  \n",
       "2               1                 0              0                    0  \n",
       "3               1                 0              0                    0  \n",
       "4               1                 0              0                    0  "
      ]
     },
     "execution_count": 519,
     "metadata": {},
     "output_type": "execute_result"
    }
   ],
   "source": [
    "reddit.head() #Yes! It worked."
   ]
  },
  {
   "cell_type": "markdown",
   "metadata": {},
   "source": [
    "### But first, we'll need to conduct a test/train split to avoid data leakage"
   ]
  },
  {
   "cell_type": "code",
   "execution_count": 520,
   "metadata": {
    "collapsed": true
   },
   "outputs": [],
   "source": [
    "from sklearn.model_selection import train_test_split #need to conduct a Train/Test split before creating features\n",
    "X_train, X_test, y_train, y_test = train_test_split(pd.get_dummies(reddit['Subreddits']), reddit['Above_Below_Median'], test_size=0.3, random_state=42)"
   ]
  },
  {
   "cell_type": "markdown",
   "metadata": {},
   "source": [
    "I'm going to run some visualizations just to see for some possible patterns, etc."
   ]
  },
  {
   "cell_type": "code",
   "execution_count": 521,
   "metadata": {},
   "outputs": [
    {
     "data": {
      "text/plain": [
       "<matplotlib.axes._subplots.AxesSubplot at 0x1a23860198>"
      ]
     },
     "execution_count": 521,
     "metadata": {},
     "output_type": "execute_result"
    },
    {
     "data": {
      "image/png": "[encoded data removed]",
      "text/plain": [
       "<matplotlib.figure.Figure at 0x1a2385e2b0>"
      ]
     },
     "metadata": {
      "image/png": {
       "height": 260,
       "width": 401
      }
     },
     "output_type": "display_data"
    }
   ],
   "source": [
    "sns.regplot(x=reddit['Upvotes'], y=reddit['Comments'], \n",
    "            line_kws={\"color\":\"r\",\"alpha\":0.7,\"lw\":5}) "
   ]
  },
  {
   "cell_type": "code",
   "execution_count": 712,
   "metadata": {},
   "outputs": [
    {
     "data": {
      "text/html": [
       "<div>\n",
       "<style>\n",
       "    .dataframe thead tr:only-child th {\n",
       "        text-align: right;\n",
       "    }\n",
       "\n",
       "    .dataframe thead th {\n",
       "        text-align: left;\n",
       "    }\n",
       "\n",
       "    .dataframe tbody tr th {\n",
       "        vertical-align: top;\n",
       "    }\n",
       "</style>\n",
       "<table border=\"1\" class=\"dataframe\">\n",
       "  <thead>\n",
       "    <tr style=\"text-align: right;\">\n",
       "      <th></th>\n",
       "      <th>Comments</th>\n",
       "      <th>Upvotes</th>\n",
       "      <th>Hour of Day</th>\n",
       "      <th>Hours</th>\n",
       "      <th>Work Day Hours</th>\n",
       "      <th>Late Night Hours</th>\n",
       "      <th>Morning Hours</th>\n",
       "      <th>Evening/Night Hours</th>\n",
       "    </tr>\n",
       "  </thead>\n",
       "  <tbody>\n",
       "    <tr>\n",
       "      <th>Comments</th>\n",
       "      <td>1.000000</td>\n",
       "      <td>0.556326</td>\n",
       "      <td>-0.146058</td>\n",
       "      <td>0.032530</td>\n",
       "      <td>-0.078814</td>\n",
       "      <td>NaN</td>\n",
       "      <td>-0.041475</td>\n",
       "      <td>-0.065922</td>\n",
       "    </tr>\n",
       "    <tr>\n",
       "      <th>Upvotes</th>\n",
       "      <td>0.556326</td>\n",
       "      <td>1.000000</td>\n",
       "      <td>-0.217260</td>\n",
       "      <td>0.065958</td>\n",
       "      <td>-0.120154</td>\n",
       "      <td>NaN</td>\n",
       "      <td>-0.061699</td>\n",
       "      <td>-0.090229</td>\n",
       "    </tr>\n",
       "    <tr>\n",
       "      <th>Hour of Day</th>\n",
       "      <td>-0.146058</td>\n",
       "      <td>-0.217260</td>\n",
       "      <td>1.000000</td>\n",
       "      <td>-0.135623</td>\n",
       "      <td>0.665502</td>\n",
       "      <td>NaN</td>\n",
       "      <td>0.202534</td>\n",
       "      <td>0.339266</td>\n",
       "    </tr>\n",
       "    <tr>\n",
       "      <th>Hours</th>\n",
       "      <td>0.032530</td>\n",
       "      <td>0.065958</td>\n",
       "      <td>-0.135623</td>\n",
       "      <td>1.000000</td>\n",
       "      <td>0.219331</td>\n",
       "      <td>NaN</td>\n",
       "      <td>-0.186101</td>\n",
       "      <td>-0.086098</td>\n",
       "    </tr>\n",
       "    <tr>\n",
       "      <th>Work Day Hours</th>\n",
       "      <td>-0.078814</td>\n",
       "      <td>-0.120154</td>\n",
       "      <td>0.665502</td>\n",
       "      <td>0.219331</td>\n",
       "      <td>1.000000</td>\n",
       "      <td>NaN</td>\n",
       "      <td>-0.321652</td>\n",
       "      <td>-0.320681</td>\n",
       "    </tr>\n",
       "    <tr>\n",
       "      <th>Late Night Hours</th>\n",
       "      <td>NaN</td>\n",
       "      <td>NaN</td>\n",
       "      <td>NaN</td>\n",
       "      <td>NaN</td>\n",
       "      <td>NaN</td>\n",
       "      <td>NaN</td>\n",
       "      <td>NaN</td>\n",
       "      <td>NaN</td>\n",
       "    </tr>\n",
       "    <tr>\n",
       "      <th>Morning Hours</th>\n",
       "      <td>-0.041475</td>\n",
       "      <td>-0.061699</td>\n",
       "      <td>0.202534</td>\n",
       "      <td>-0.186101</td>\n",
       "      <td>-0.321652</td>\n",
       "      <td>NaN</td>\n",
       "      <td>1.000000</td>\n",
       "      <td>0.655192</td>\n",
       "    </tr>\n",
       "    <tr>\n",
       "      <th>Evening/Night Hours</th>\n",
       "      <td>-0.065922</td>\n",
       "      <td>-0.090229</td>\n",
       "      <td>0.339266</td>\n",
       "      <td>-0.086098</td>\n",
       "      <td>-0.320681</td>\n",
       "      <td>NaN</td>\n",
       "      <td>0.655192</td>\n",
       "      <td>1.000000</td>\n",
       "    </tr>\n",
       "  </tbody>\n",
       "</table>\n",
       "</div>"
      ],
      "text/plain": [
       "                     Comments   Upvotes  Hour of Day     Hours  \\\n",
       "Comments             1.000000  0.556326    -0.146058  0.032530   \n",
       "Upvotes              0.556326  1.000000    -0.217260  0.065958   \n",
       "Hour of Day         -0.146058 -0.217260     1.000000 -0.135623   \n",
       "Hours                0.032530  0.065958    -0.135623  1.000000   \n",
       "Work Day Hours      -0.078814 -0.120154     0.665502  0.219331   \n",
       "Late Night Hours          NaN       NaN          NaN       NaN   \n",
       "Morning Hours       -0.041475 -0.061699     0.202534 -0.186101   \n",
       "Evening/Night Hours -0.065922 -0.090229     0.339266 -0.086098   \n",
       "\n",
       "                     Work Day Hours  Late Night Hours  Morning Hours  \\\n",
       "Comments                  -0.078814               NaN      -0.041475   \n",
       "Upvotes                   -0.120154               NaN      -0.061699   \n",
       "Hour of Day                0.665502               NaN       0.202534   \n",
       "Hours                      0.219331               NaN      -0.186101   \n",
       "Work Day Hours             1.000000               NaN      -0.321652   \n",
       "Late Night Hours                NaN               NaN            NaN   \n",
       "Morning Hours             -0.321652               NaN       1.000000   \n",
       "Evening/Night Hours       -0.320681               NaN       0.655192   \n",
       "\n",
       "                     Evening/Night Hours  \n",
       "Comments                       -0.065922  \n",
       "Upvotes                        -0.090229  \n",
       "Hour of Day                     0.339266  \n",
       "Hours                          -0.086098  \n",
       "Work Day Hours                 -0.320681  \n",
       "Late Night Hours                     NaN  \n",
       "Morning Hours                   0.655192  \n",
       "Evening/Night Hours             1.000000  "
      ]
     },
     "execution_count": 712,
     "metadata": {},
     "output_type": "execute_result"
    }
   ],
   "source": [
    "reddit.corr()"
   ]
  },
  {
   "cell_type": "code",
   "execution_count": 522,
   "metadata": {},
   "outputs": [
    {
     "data": {
      "text/plain": [
       "<matplotlib.axes._subplots.AxesSubplot at 0x1a23866518>"
      ]
     },
     "execution_count": 522,
     "metadata": {},
     "output_type": "execute_result"
    },
    {
     "data": {
      "image/png": "[encoded data removed]",
      "text/plain": [
       "<matplotlib.figure.Figure at 0x1a238601d0>"
      ]
     },
     "metadata": {
      "image/png": {
       "height": 258,
       "width": 372
      }
     },
     "output_type": "display_data"
    }
   ],
   "source": [
    "sns.distplot(reddit['Hour of Day'], kde=True, bins=10, color='green')"
   ]
  },
  {
   "cell_type": "markdown",
   "metadata": {},
   "source": [
    "Interesting the highest number of Reddit posts seem to be uploaded during between 10am and 3pm, which is during regular work day hours and also a small peak in the morning around 4am to 7am. Those time ranges would be interesting to look at and see if those are \"ideal\" times of day to post something on Reddit."
   ]
  },
  {
   "cell_type": "markdown",
   "metadata": {},
   "source": [
    "By seeing the distribution of the number of upvotes. There are an inordinate amount of upvotes that are clsoer to zero than other outlying number of upvotes."
   ]
  },
  {
   "cell_type": "code",
   "execution_count": 791,
   "metadata": {},
   "outputs": [
    {
     "data": {
      "image/png": "[encoded data removed]",
      "text/plain": [
       "<matplotlib.figure.Figure at 0x1a43c8fc18>"
      ]
     },
     "metadata": {
      "image/png": {
       "height": 275,
       "width": 423
      }
     },
     "output_type": "display_data"
    }
   ],
   "source": [
    "plt.hist(reddit['Upvotes'], range=(20,1000))\n",
    "plt.xlabel('Number of Upvotes',fontsize='large')\n",
    "plt.ylabel('Number of Reddit Posts',fontsize='large')\n",
    "plt.title('The distribution of upvotes has a similar shape to the comments distribution', fontsize='large')\n",
    "plt.show()"
   ]
  },
  {
   "cell_type": "markdown",
   "metadata": {},
   "source": [
    "Same with the distribution of the number of comments for each Reddit post. There are an inordinate amount of posts that are closer to zero than other posts."
   ]
  },
  {
   "cell_type": "code",
   "execution_count": 727,
   "metadata": {
    "scrolled": true
   },
   "outputs": [
    {
     "data": {
      "image/png": "[encoded data removed]",
      "text/plain": [
       "<matplotlib.figure.Figure at 0x1a3e030da0>"
      ]
     },
     "metadata": {
      "image/png": {
       "height": 275,
       "width": 390
      }
     },
     "output_type": "display_data"
    }
   ],
   "source": [
    "plt.hist(reddit['Comments'], range=(0,150))\n",
    "plt.xlabel('Number of Comments',fontsize='large')\n",
    "plt.ylabel('Number of Reddit Posts',fontsize='large')\n",
    "plt.title('About half are above or below the number of comments!', fontsize='large')\n",
    "plt.show()"
   ]
  },
  {
   "cell_type": "code",
   "execution_count": 795,
   "metadata": {},
   "outputs": [
    {
     "data": {
      "image/png": "[encoded data removed]",
      "text/plain": [
       "<matplotlib.figure.Figure at 0x1065439b0>"
      ]
     },
     "metadata": {
      "image/png": {
       "height": 275,
       "width": 412
      }
     },
     "output_type": "display_data"
    }
   ],
   "source": [
    "plt.scatter(reddit['Comments'], reddit['Upvotes'])\n",
    "plt.xlabel('Upvotes',fontsize='large')\n",
    "plt.ylabel('Comments',fontsize='large')\n",
    "plt.title('Upvotes and Comments have a positive relationship!', fontsize='large')\n",
    "plt.show()"
   ]
  },
  {
   "cell_type": "markdown",
   "metadata": {},
   "source": [
    "### Natural Language Processing"
   ]
  },
  {
   "cell_type": "code",
   "execution_count": 606,
   "metadata": {
    "collapsed": true
   },
   "outputs": [],
   "source": [
    "X = reddit['Titles']\n",
    "y = reddit['Above_Below_Median']\n",
    "X_train, X_test, y_train, y_test = train_test_split(X, y, test_size=0.3, random_state=42)"
   ]
  },
  {
   "cell_type": "code",
   "execution_count": 607,
   "metadata": {
    "collapsed": true
   },
   "outputs": [],
   "source": [
    "from sklearn.feature_extraction.text import CountVectorizer\n",
    "from sklearn.feature_extraction.text import TfidfVectorizer\n",
    "\n",
    "cvec = CountVectorizer(stop_words='english', max_features=100)\n",
    "tvec = TfidfVectorizer(stop_words='english', max_features=100)"
   ]
  },
  {
   "cell_type": "code",
   "execution_count": 608,
   "metadata": {
    "collapsed": true
   },
   "outputs": [],
   "source": [
    "cvecdata = cvec.fit_transform(X_train)\n",
    "cvec_df  = pd.DataFrame(cvecdata.todense(),\n",
    "             columns=cvec.get_feature_names())"
   ]
  },
  {
   "cell_type": "code",
   "execution_count": 609,
   "metadata": {},
   "outputs": [
    {
     "data": {
      "text/html": [
       "<div>\n",
       "<style>\n",
       "    .dataframe thead tr:only-child th {\n",
       "        text-align: right;\n",
       "    }\n",
       "\n",
       "    .dataframe thead th {\n",
       "        text-align: left;\n",
       "    }\n",
       "\n",
       "    .dataframe tbody tr th {\n",
       "        vertical-align: top;\n",
       "    }\n",
       "</style>\n",
       "<table border=\"1\" class=\"dataframe\">\n",
       "  <thead>\n",
       "    <tr style=\"text-align: right;\">\n",
       "      <th></th>\n",
       "      <th>000</th>\n",
       "      <th>10</th>\n",
       "      <th>20</th>\n",
       "      <th>2018</th>\n",
       "      <th>ago</th>\n",
       "      <th>art</th>\n",
       "      <th>away</th>\n",
       "      <th>ban</th>\n",
       "      <th>beautiful</th>\n",
       "      <th>best</th>\n",
       "      <th>...</th>\n",
       "      <th>video</th>\n",
       "      <th>vs</th>\n",
       "      <th>want</th>\n",
       "      <th>way</th>\n",
       "      <th>week</th>\n",
       "      <th>won</th>\n",
       "      <th>work</th>\n",
       "      <th>world</th>\n",
       "      <th>year</th>\n",
       "      <th>years</th>\n",
       "    </tr>\n",
       "  </thead>\n",
       "  <tbody>\n",
       "    <tr>\n",
       "      <th>0</th>\n",
       "      <td>0</td>\n",
       "      <td>0</td>\n",
       "      <td>0</td>\n",
       "      <td>0</td>\n",
       "      <td>0</td>\n",
       "      <td>0</td>\n",
       "      <td>0</td>\n",
       "      <td>0</td>\n",
       "      <td>0</td>\n",
       "      <td>0</td>\n",
       "      <td>...</td>\n",
       "      <td>0</td>\n",
       "      <td>0</td>\n",
       "      <td>0</td>\n",
       "      <td>0</td>\n",
       "      <td>0</td>\n",
       "      <td>0</td>\n",
       "      <td>0</td>\n",
       "      <td>0</td>\n",
       "      <td>0</td>\n",
       "      <td>0</td>\n",
       "    </tr>\n",
       "    <tr>\n",
       "      <th>1</th>\n",
       "      <td>0</td>\n",
       "      <td>0</td>\n",
       "      <td>0</td>\n",
       "      <td>0</td>\n",
       "      <td>0</td>\n",
       "      <td>0</td>\n",
       "      <td>0</td>\n",
       "      <td>0</td>\n",
       "      <td>0</td>\n",
       "      <td>0</td>\n",
       "      <td>...</td>\n",
       "      <td>0</td>\n",
       "      <td>0</td>\n",
       "      <td>0</td>\n",
       "      <td>0</td>\n",
       "      <td>0</td>\n",
       "      <td>0</td>\n",
       "      <td>0</td>\n",
       "      <td>0</td>\n",
       "      <td>0</td>\n",
       "      <td>0</td>\n",
       "    </tr>\n",
       "    <tr>\n",
       "      <th>2</th>\n",
       "      <td>0</td>\n",
       "      <td>0</td>\n",
       "      <td>0</td>\n",
       "      <td>0</td>\n",
       "      <td>0</td>\n",
       "      <td>0</td>\n",
       "      <td>0</td>\n",
       "      <td>0</td>\n",
       "      <td>0</td>\n",
       "      <td>0</td>\n",
       "      <td>...</td>\n",
       "      <td>0</td>\n",
       "      <td>0</td>\n",
       "      <td>0</td>\n",
       "      <td>0</td>\n",
       "      <td>0</td>\n",
       "      <td>0</td>\n",
       "      <td>0</td>\n",
       "      <td>0</td>\n",
       "      <td>0</td>\n",
       "      <td>0</td>\n",
       "    </tr>\n",
       "    <tr>\n",
       "      <th>3</th>\n",
       "      <td>0</td>\n",
       "      <td>0</td>\n",
       "      <td>0</td>\n",
       "      <td>0</td>\n",
       "      <td>0</td>\n",
       "      <td>0</td>\n",
       "      <td>0</td>\n",
       "      <td>0</td>\n",
       "      <td>0</td>\n",
       "      <td>0</td>\n",
       "      <td>...</td>\n",
       "      <td>0</td>\n",
       "      <td>0</td>\n",
       "      <td>0</td>\n",
       "      <td>0</td>\n",
       "      <td>0</td>\n",
       "      <td>0</td>\n",
       "      <td>0</td>\n",
       "      <td>0</td>\n",
       "      <td>0</td>\n",
       "      <td>0</td>\n",
       "    </tr>\n",
       "    <tr>\n",
       "      <th>4</th>\n",
       "      <td>0</td>\n",
       "      <td>0</td>\n",
       "      <td>0</td>\n",
       "      <td>0</td>\n",
       "      <td>0</td>\n",
       "      <td>0</td>\n",
       "      <td>0</td>\n",
       "      <td>0</td>\n",
       "      <td>0</td>\n",
       "      <td>0</td>\n",
       "      <td>...</td>\n",
       "      <td>0</td>\n",
       "      <td>0</td>\n",
       "      <td>0</td>\n",
       "      <td>0</td>\n",
       "      <td>0</td>\n",
       "      <td>0</td>\n",
       "      <td>0</td>\n",
       "      <td>0</td>\n",
       "      <td>0</td>\n",
       "      <td>0</td>\n",
       "    </tr>\n",
       "    <tr>\n",
       "      <th>5</th>\n",
       "      <td>0</td>\n",
       "      <td>0</td>\n",
       "      <td>0</td>\n",
       "      <td>0</td>\n",
       "      <td>0</td>\n",
       "      <td>0</td>\n",
       "      <td>0</td>\n",
       "      <td>0</td>\n",
       "      <td>0</td>\n",
       "      <td>0</td>\n",
       "      <td>...</td>\n",
       "      <td>1</td>\n",
       "      <td>0</td>\n",
       "      <td>0</td>\n",
       "      <td>0</td>\n",
       "      <td>0</td>\n",
       "      <td>0</td>\n",
       "      <td>0</td>\n",
       "      <td>0</td>\n",
       "      <td>0</td>\n",
       "      <td>0</td>\n",
       "    </tr>\n",
       "    <tr>\n",
       "      <th>6</th>\n",
       "      <td>0</td>\n",
       "      <td>0</td>\n",
       "      <td>0</td>\n",
       "      <td>0</td>\n",
       "      <td>0</td>\n",
       "      <td>0</td>\n",
       "      <td>0</td>\n",
       "      <td>0</td>\n",
       "      <td>0</td>\n",
       "      <td>0</td>\n",
       "      <td>...</td>\n",
       "      <td>0</td>\n",
       "      <td>0</td>\n",
       "      <td>0</td>\n",
       "      <td>0</td>\n",
       "      <td>0</td>\n",
       "      <td>0</td>\n",
       "      <td>0</td>\n",
       "      <td>0</td>\n",
       "      <td>0</td>\n",
       "      <td>0</td>\n",
       "    </tr>\n",
       "    <tr>\n",
       "      <th>7</th>\n",
       "      <td>0</td>\n",
       "      <td>0</td>\n",
       "      <td>0</td>\n",
       "      <td>0</td>\n",
       "      <td>0</td>\n",
       "      <td>0</td>\n",
       "      <td>0</td>\n",
       "      <td>0</td>\n",
       "      <td>0</td>\n",
       "      <td>0</td>\n",
       "      <td>...</td>\n",
       "      <td>0</td>\n",
       "      <td>0</td>\n",
       "      <td>0</td>\n",
       "      <td>0</td>\n",
       "      <td>0</td>\n",
       "      <td>0</td>\n",
       "      <td>0</td>\n",
       "      <td>0</td>\n",
       "      <td>0</td>\n",
       "      <td>0</td>\n",
       "    </tr>\n",
       "    <tr>\n",
       "      <th>8</th>\n",
       "      <td>0</td>\n",
       "      <td>0</td>\n",
       "      <td>0</td>\n",
       "      <td>0</td>\n",
       "      <td>0</td>\n",
       "      <td>0</td>\n",
       "      <td>0</td>\n",
       "      <td>0</td>\n",
       "      <td>0</td>\n",
       "      <td>0</td>\n",
       "      <td>...</td>\n",
       "      <td>0</td>\n",
       "      <td>0</td>\n",
       "      <td>0</td>\n",
       "      <td>0</td>\n",
       "      <td>0</td>\n",
       "      <td>0</td>\n",
       "      <td>0</td>\n",
       "      <td>0</td>\n",
       "      <td>0</td>\n",
       "      <td>0</td>\n",
       "    </tr>\n",
       "    <tr>\n",
       "      <th>9</th>\n",
       "      <td>0</td>\n",
       "      <td>0</td>\n",
       "      <td>0</td>\n",
       "      <td>0</td>\n",
       "      <td>0</td>\n",
       "      <td>0</td>\n",
       "      <td>0</td>\n",
       "      <td>0</td>\n",
       "      <td>0</td>\n",
       "      <td>0</td>\n",
       "      <td>...</td>\n",
       "      <td>0</td>\n",
       "      <td>0</td>\n",
       "      <td>0</td>\n",
       "      <td>0</td>\n",
       "      <td>0</td>\n",
       "      <td>0</td>\n",
       "      <td>0</td>\n",
       "      <td>0</td>\n",
       "      <td>0</td>\n",
       "      <td>0</td>\n",
       "    </tr>\n",
       "    <tr>\n",
       "      <th>10</th>\n",
       "      <td>0</td>\n",
       "      <td>0</td>\n",
       "      <td>0</td>\n",
       "      <td>0</td>\n",
       "      <td>0</td>\n",
       "      <td>0</td>\n",
       "      <td>0</td>\n",
       "      <td>0</td>\n",
       "      <td>0</td>\n",
       "      <td>0</td>\n",
       "      <td>...</td>\n",
       "      <td>0</td>\n",
       "      <td>0</td>\n",
       "      <td>0</td>\n",
       "      <td>0</td>\n",
       "      <td>0</td>\n",
       "      <td>0</td>\n",
       "      <td>0</td>\n",
       "      <td>0</td>\n",
       "      <td>0</td>\n",
       "      <td>0</td>\n",
       "    </tr>\n",
       "    <tr>\n",
       "      <th>11</th>\n",
       "      <td>0</td>\n",
       "      <td>0</td>\n",
       "      <td>0</td>\n",
       "      <td>0</td>\n",
       "      <td>0</td>\n",
       "      <td>0</td>\n",
       "      <td>0</td>\n",
       "      <td>0</td>\n",
       "      <td>0</td>\n",
       "      <td>0</td>\n",
       "      <td>...</td>\n",
       "      <td>0</td>\n",
       "      <td>0</td>\n",
       "      <td>0</td>\n",
       "      <td>0</td>\n",
       "      <td>0</td>\n",
       "      <td>1</td>\n",
       "      <td>0</td>\n",
       "      <td>1</td>\n",
       "      <td>0</td>\n",
       "      <td>0</td>\n",
       "    </tr>\n",
       "    <tr>\n",
       "      <th>12</th>\n",
       "      <td>0</td>\n",
       "      <td>0</td>\n",
       "      <td>0</td>\n",
       "      <td>0</td>\n",
       "      <td>0</td>\n",
       "      <td>0</td>\n",
       "      <td>0</td>\n",
       "      <td>0</td>\n",
       "      <td>0</td>\n",
       "      <td>0</td>\n",
       "      <td>...</td>\n",
       "      <td>0</td>\n",
       "      <td>0</td>\n",
       "      <td>0</td>\n",
       "      <td>0</td>\n",
       "      <td>0</td>\n",
       "      <td>0</td>\n",
       "      <td>0</td>\n",
       "      <td>0</td>\n",
       "      <td>0</td>\n",
       "      <td>0</td>\n",
       "    </tr>\n",
       "    <tr>\n",
       "      <th>13</th>\n",
       "      <td>0</td>\n",
       "      <td>0</td>\n",
       "      <td>0</td>\n",
       "      <td>0</td>\n",
       "      <td>0</td>\n",
       "      <td>0</td>\n",
       "      <td>0</td>\n",
       "      <td>0</td>\n",
       "      <td>0</td>\n",
       "      <td>0</td>\n",
       "      <td>...</td>\n",
       "      <td>0</td>\n",
       "      <td>0</td>\n",
       "      <td>0</td>\n",
       "      <td>0</td>\n",
       "      <td>0</td>\n",
       "      <td>0</td>\n",
       "      <td>0</td>\n",
       "      <td>0</td>\n",
       "      <td>0</td>\n",
       "      <td>0</td>\n",
       "    </tr>\n",
       "    <tr>\n",
       "      <th>14</th>\n",
       "      <td>0</td>\n",
       "      <td>0</td>\n",
       "      <td>0</td>\n",
       "      <td>0</td>\n",
       "      <td>0</td>\n",
       "      <td>0</td>\n",
       "      <td>0</td>\n",
       "      <td>0</td>\n",
       "      <td>0</td>\n",
       "      <td>0</td>\n",
       "      <td>...</td>\n",
       "      <td>0</td>\n",
       "      <td>0</td>\n",
       "      <td>0</td>\n",
       "      <td>0</td>\n",
       "      <td>0</td>\n",
       "      <td>0</td>\n",
       "      <td>0</td>\n",
       "      <td>0</td>\n",
       "      <td>0</td>\n",
       "      <td>0</td>\n",
       "    </tr>\n",
       "    <tr>\n",
       "      <th>15</th>\n",
       "      <td>0</td>\n",
       "      <td>0</td>\n",
       "      <td>0</td>\n",
       "      <td>0</td>\n",
       "      <td>0</td>\n",
       "      <td>0</td>\n",
       "      <td>0</td>\n",
       "      <td>0</td>\n",
       "      <td>0</td>\n",
       "      <td>0</td>\n",
       "      <td>...</td>\n",
       "      <td>0</td>\n",
       "      <td>0</td>\n",
       "      <td>0</td>\n",
       "      <td>0</td>\n",
       "      <td>0</td>\n",
       "      <td>0</td>\n",
       "      <td>0</td>\n",
       "      <td>0</td>\n",
       "      <td>0</td>\n",
       "      <td>0</td>\n",
       "    </tr>\n",
       "    <tr>\n",
       "      <th>16</th>\n",
       "      <td>0</td>\n",
       "      <td>0</td>\n",
       "      <td>0</td>\n",
       "      <td>0</td>\n",
       "      <td>0</td>\n",
       "      <td>0</td>\n",
       "      <td>0</td>\n",
       "      <td>0</td>\n",
       "      <td>0</td>\n",
       "      <td>0</td>\n",
       "      <td>...</td>\n",
       "      <td>0</td>\n",
       "      <td>0</td>\n",
       "      <td>0</td>\n",
       "      <td>0</td>\n",
       "      <td>0</td>\n",
       "      <td>0</td>\n",
       "      <td>0</td>\n",
       "      <td>0</td>\n",
       "      <td>0</td>\n",
       "      <td>0</td>\n",
       "    </tr>\n",
       "    <tr>\n",
       "      <th>17</th>\n",
       "      <td>0</td>\n",
       "      <td>0</td>\n",
       "      <td>0</td>\n",
       "      <td>0</td>\n",
       "      <td>0</td>\n",
       "      <td>0</td>\n",
       "      <td>0</td>\n",
       "      <td>0</td>\n",
       "      <td>0</td>\n",
       "      <td>0</td>\n",
       "      <td>...</td>\n",
       "      <td>0</td>\n",
       "      <td>0</td>\n",
       "      <td>0</td>\n",
       "      <td>0</td>\n",
       "      <td>0</td>\n",
       "      <td>0</td>\n",
       "      <td>0</td>\n",
       "      <td>0</td>\n",
       "      <td>0</td>\n",
       "      <td>0</td>\n",
       "    </tr>\n",
       "    <tr>\n",
       "      <th>18</th>\n",
       "      <td>0</td>\n",
       "      <td>0</td>\n",
       "      <td>0</td>\n",
       "      <td>0</td>\n",
       "      <td>0</td>\n",
       "      <td>0</td>\n",
       "      <td>0</td>\n",
       "      <td>0</td>\n",
       "      <td>0</td>\n",
       "      <td>0</td>\n",
       "      <td>...</td>\n",
       "      <td>0</td>\n",
       "      <td>0</td>\n",
       "      <td>0</td>\n",
       "      <td>0</td>\n",
       "      <td>0</td>\n",
       "      <td>0</td>\n",
       "      <td>0</td>\n",
       "      <td>0</td>\n",
       "      <td>0</td>\n",
       "      <td>0</td>\n",
       "    </tr>\n",
       "    <tr>\n",
       "      <th>19</th>\n",
       "      <td>0</td>\n",
       "      <td>0</td>\n",
       "      <td>0</td>\n",
       "      <td>0</td>\n",
       "      <td>0</td>\n",
       "      <td>0</td>\n",
       "      <td>0</td>\n",
       "      <td>0</td>\n",
       "      <td>0</td>\n",
       "      <td>0</td>\n",
       "      <td>...</td>\n",
       "      <td>0</td>\n",
       "      <td>0</td>\n",
       "      <td>0</td>\n",
       "      <td>0</td>\n",
       "      <td>0</td>\n",
       "      <td>0</td>\n",
       "      <td>0</td>\n",
       "      <td>0</td>\n",
       "      <td>0</td>\n",
       "      <td>0</td>\n",
       "    </tr>\n",
       "    <tr>\n",
       "      <th>20</th>\n",
       "      <td>0</td>\n",
       "      <td>0</td>\n",
       "      <td>0</td>\n",
       "      <td>0</td>\n",
       "      <td>0</td>\n",
       "      <td>0</td>\n",
       "      <td>0</td>\n",
       "      <td>0</td>\n",
       "      <td>0</td>\n",
       "      <td>0</td>\n",
       "      <td>...</td>\n",
       "      <td>0</td>\n",
       "      <td>0</td>\n",
       "      <td>0</td>\n",
       "      <td>0</td>\n",
       "      <td>0</td>\n",
       "      <td>0</td>\n",
       "      <td>0</td>\n",
       "      <td>0</td>\n",
       "      <td>0</td>\n",
       "      <td>0</td>\n",
       "    </tr>\n",
       "    <tr>\n",
       "      <th>21</th>\n",
       "      <td>0</td>\n",
       "      <td>0</td>\n",
       "      <td>0</td>\n",
       "      <td>0</td>\n",
       "      <td>0</td>\n",
       "      <td>0</td>\n",
       "      <td>0</td>\n",
       "      <td>0</td>\n",
       "      <td>0</td>\n",
       "      <td>0</td>\n",
       "      <td>...</td>\n",
       "      <td>0</td>\n",
       "      <td>0</td>\n",
       "      <td>0</td>\n",
       "      <td>0</td>\n",
       "      <td>0</td>\n",
       "      <td>0</td>\n",
       "      <td>0</td>\n",
       "      <td>0</td>\n",
       "      <td>0</td>\n",
       "      <td>0</td>\n",
       "    </tr>\n",
       "    <tr>\n",
       "      <th>22</th>\n",
       "      <td>0</td>\n",
       "      <td>0</td>\n",
       "      <td>0</td>\n",
       "      <td>0</td>\n",
       "      <td>0</td>\n",
       "      <td>0</td>\n",
       "      <td>0</td>\n",
       "      <td>0</td>\n",
       "      <td>0</td>\n",
       "      <td>0</td>\n",
       "      <td>...</td>\n",
       "      <td>0</td>\n",
       "      <td>0</td>\n",
       "      <td>0</td>\n",
       "      <td>0</td>\n",
       "      <td>0</td>\n",
       "      <td>0</td>\n",
       "      <td>0</td>\n",
       "      <td>0</td>\n",
       "      <td>0</td>\n",
       "      <td>0</td>\n",
       "    </tr>\n",
       "    <tr>\n",
       "      <th>23</th>\n",
       "      <td>0</td>\n",
       "      <td>0</td>\n",
       "      <td>0</td>\n",
       "      <td>0</td>\n",
       "      <td>0</td>\n",
       "      <td>0</td>\n",
       "      <td>0</td>\n",
       "      <td>0</td>\n",
       "      <td>0</td>\n",
       "      <td>0</td>\n",
       "      <td>...</td>\n",
       "      <td>0</td>\n",
       "      <td>0</td>\n",
       "      <td>0</td>\n",
       "      <td>0</td>\n",
       "      <td>0</td>\n",
       "      <td>0</td>\n",
       "      <td>0</td>\n",
       "      <td>0</td>\n",
       "      <td>0</td>\n",
       "      <td>0</td>\n",
       "    </tr>\n",
       "    <tr>\n",
       "      <th>24</th>\n",
       "      <td>0</td>\n",
       "      <td>0</td>\n",
       "      <td>0</td>\n",
       "      <td>0</td>\n",
       "      <td>0</td>\n",
       "      <td>0</td>\n",
       "      <td>0</td>\n",
       "      <td>0</td>\n",
       "      <td>0</td>\n",
       "      <td>0</td>\n",
       "      <td>...</td>\n",
       "      <td>0</td>\n",
       "      <td>0</td>\n",
       "      <td>0</td>\n",
       "      <td>0</td>\n",
       "      <td>0</td>\n",
       "      <td>0</td>\n",
       "      <td>0</td>\n",
       "      <td>0</td>\n",
       "      <td>0</td>\n",
       "      <td>0</td>\n",
       "    </tr>\n",
       "  </tbody>\n",
       "</table>\n",
       "<p>25 rows × 100 columns</p>\n",
       "</div>"
      ],
      "text/plain": [
       "    000  10  20  2018  ago  art  away  ban  beautiful  best  ...    video  vs  \\\n",
       "0     0   0   0     0    0    0     0    0          0     0  ...        0   0   \n",
       "1     0   0   0     0    0    0     0    0          0     0  ...        0   0   \n",
       "2     0   0   0     0    0    0     0    0          0     0  ...        0   0   \n",
       "3     0   0   0     0    0    0     0    0          0     0  ...        0   0   \n",
       "4     0   0   0     0    0    0     0    0          0     0  ...        0   0   \n",
       "5     0   0   0     0    0    0     0    0          0     0  ...        1   0   \n",
       "6     0   0   0     0    0    0     0    0          0     0  ...        0   0   \n",
       "7     0   0   0     0    0    0     0    0          0     0  ...        0   0   \n",
       "8     0   0   0     0    0    0     0    0          0     0  ...        0   0   \n",
       "9     0   0   0     0    0    0     0    0          0     0  ...        0   0   \n",
       "10    0   0   0     0    0    0     0    0          0     0  ...        0   0   \n",
       "11    0   0   0     0    0    0     0    0          0     0  ...        0   0   \n",
       "12    0   0   0     0    0    0     0    0          0     0  ...        0   0   \n",
       "13    0   0   0     0    0    0     0    0          0     0  ...        0   0   \n",
       "14    0   0   0     0    0    0     0    0          0     0  ...        0   0   \n",
       "15    0   0   0     0    0    0     0    0          0     0  ...        0   0   \n",
       "16    0   0   0     0    0    0     0    0          0     0  ...        0   0   \n",
       "17    0   0   0     0    0    0     0    0          0     0  ...        0   0   \n",
       "18    0   0   0     0    0    0     0    0          0     0  ...        0   0   \n",
       "19    0   0   0     0    0    0     0    0          0     0  ...        0   0   \n",
       "20    0   0   0     0    0    0     0    0          0     0  ...        0   0   \n",
       "21    0   0   0     0    0    0     0    0          0     0  ...        0   0   \n",
       "22    0   0   0     0    0    0     0    0          0     0  ...        0   0   \n",
       "23    0   0   0     0    0    0     0    0          0     0  ...        0   0   \n",
       "24    0   0   0     0    0    0     0    0          0     0  ...        0   0   \n",
       "\n",
       "    want  way  week  won  work  world  year  years  \n",
       "0      0    0     0    0     0      0     0      0  \n",
       "1      0    0     0    0     0      0     0      0  \n",
       "2      0    0     0    0     0      0     0      0  \n",
       "3      0    0     0    0     0      0     0      0  \n",
       "4      0    0     0    0     0      0     0      0  \n",
       "5      0    0     0    0     0      0     0      0  \n",
       "6      0    0     0    0     0      0     0      0  \n",
       "7      0    0     0    0     0      0     0      0  \n",
       "8      0    0     0    0     0      0     0      0  \n",
       "9      0    0     0    0     0      0     0      0  \n",
       "10     0    0     0    0     0      0     0      0  \n",
       "11     0    0     0    1     0      1     0      0  \n",
       "12     0    0     0    0     0      0     0      0  \n",
       "13     0    0     0    0     0      0     0      0  \n",
       "14     0    0     0    0     0      0     0      0  \n",
       "15     0    0     0    0     0      0     0      0  \n",
       "16     0    0     0    0     0      0     0      0  \n",
       "17     0    0     0    0     0      0     0      0  \n",
       "18     0    0     0    0     0      0     0      0  \n",
       "19     0    0     0    0     0      0     0      0  \n",
       "20     0    0     0    0     0      0     0      0  \n",
       "21     0    0     0    0     0      0     0      0  \n",
       "22     0    0     0    0     0      0     0      0  \n",
       "23     0    0     0    0     0      0     0      0  \n",
       "24     0    0     0    0     0      0     0      0  \n",
       "\n",
       "[25 rows x 100 columns]"
      ]
     },
     "execution_count": 609,
     "metadata": {},
     "output_type": "execute_result"
    }
   ],
   "source": [
    "cvec_df.head(25)"
   ]
  },
  {
   "cell_type": "code",
   "execution_count": 610,
   "metadata": {
    "collapsed": true
   },
   "outputs": [],
   "source": [
    "tvec.fit(X_train)\n",
    "tvec_df  = pd.DataFrame(tvec.transform(X_train).todense(),\n",
    "                   columns=tvec.get_feature_names(),\n",
    "                   index=[X_train])"
   ]
  },
  {
   "cell_type": "code",
   "execution_count": 611,
   "metadata": {},
   "outputs": [
    {
     "data": {
      "text/html": [
       "<div>\n",
       "<style>\n",
       "    .dataframe thead tr:only-child th {\n",
       "        text-align: right;\n",
       "    }\n",
       "\n",
       "    .dataframe thead th {\n",
       "        text-align: left;\n",
       "    }\n",
       "\n",
       "    .dataframe tbody tr th {\n",
       "        vertical-align: top;\n",
       "    }\n",
       "</style>\n",
       "<table border=\"1\" class=\"dataframe\">\n",
       "  <thead>\n",
       "    <tr style=\"text-align: right;\">\n",
       "      <th></th>\n",
       "      <th>000</th>\n",
       "      <th>10</th>\n",
       "      <th>20</th>\n",
       "      <th>2018</th>\n",
       "      <th>ago</th>\n",
       "      <th>art</th>\n",
       "      <th>away</th>\n",
       "      <th>ban</th>\n",
       "      <th>beautiful</th>\n",
       "      <th>best</th>\n",
       "      <th>...</th>\n",
       "      <th>video</th>\n",
       "      <th>vs</th>\n",
       "      <th>want</th>\n",
       "      <th>way</th>\n",
       "      <th>week</th>\n",
       "      <th>won</th>\n",
       "      <th>work</th>\n",
       "      <th>world</th>\n",
       "      <th>year</th>\n",
       "      <th>years</th>\n",
       "    </tr>\n",
       "    <tr>\n",
       "      <th>Titles</th>\n",
       "      <th></th>\n",
       "      <th></th>\n",
       "      <th></th>\n",
       "      <th></th>\n",
       "      <th></th>\n",
       "      <th></th>\n",
       "      <th></th>\n",
       "      <th></th>\n",
       "      <th></th>\n",
       "      <th></th>\n",
       "      <th></th>\n",
       "      <th></th>\n",
       "      <th></th>\n",
       "      <th></th>\n",
       "      <th></th>\n",
       "      <th></th>\n",
       "      <th></th>\n",
       "      <th></th>\n",
       "      <th></th>\n",
       "      <th></th>\n",
       "      <th></th>\n",
       "    </tr>\n",
       "  </thead>\n",
       "  <tbody>\n",
       "    <tr>\n",
       "      <th>New travel method</th>\n",
       "      <td>0.0</td>\n",
       "      <td>0.0</td>\n",
       "      <td>0.0</td>\n",
       "      <td>0.0</td>\n",
       "      <td>0.0</td>\n",
       "      <td>0.0</td>\n",
       "      <td>0.0</td>\n",
       "      <td>0.0</td>\n",
       "      <td>0.0</td>\n",
       "      <td>0.0</td>\n",
       "      <td>...</td>\n",
       "      <td>0.000000</td>\n",
       "      <td>0.0</td>\n",
       "      <td>0.0</td>\n",
       "      <td>0.0</td>\n",
       "      <td>0.0</td>\n",
       "      <td>0.000000</td>\n",
       "      <td>0.0</td>\n",
       "      <td>0.000000</td>\n",
       "      <td>0.0</td>\n",
       "      <td>0.0</td>\n",
       "    </tr>\n",
       "    <tr>\n",
       "      <th>Average ELO of Overwatch community as shown by Jeff Kaplan</th>\n",
       "      <td>0.0</td>\n",
       "      <td>0.0</td>\n",
       "      <td>0.0</td>\n",
       "      <td>0.0</td>\n",
       "      <td>0.0</td>\n",
       "      <td>0.0</td>\n",
       "      <td>0.0</td>\n",
       "      <td>0.0</td>\n",
       "      <td>0.0</td>\n",
       "      <td>0.0</td>\n",
       "      <td>...</td>\n",
       "      <td>0.000000</td>\n",
       "      <td>0.0</td>\n",
       "      <td>0.0</td>\n",
       "      <td>0.0</td>\n",
       "      <td>0.0</td>\n",
       "      <td>0.000000</td>\n",
       "      <td>0.0</td>\n",
       "      <td>0.000000</td>\n",
       "      <td>0.0</td>\n",
       "      <td>0.0</td>\n",
       "    </tr>\n",
       "    <tr>\n",
       "      <th>TRUSTBUSTERS</th>\n",
       "      <td>0.0</td>\n",
       "      <td>0.0</td>\n",
       "      <td>0.0</td>\n",
       "      <td>0.0</td>\n",
       "      <td>0.0</td>\n",
       "      <td>0.0</td>\n",
       "      <td>0.0</td>\n",
       "      <td>0.0</td>\n",
       "      <td>0.0</td>\n",
       "      <td>0.0</td>\n",
       "      <td>...</td>\n",
       "      <td>0.000000</td>\n",
       "      <td>0.0</td>\n",
       "      <td>0.0</td>\n",
       "      <td>0.0</td>\n",
       "      <td>0.0</td>\n",
       "      <td>0.000000</td>\n",
       "      <td>0.0</td>\n",
       "      <td>0.000000</td>\n",
       "      <td>0.0</td>\n",
       "      <td>0.0</td>\n",
       "    </tr>\n",
       "    <tr>\n",
       "      <th>[SFM] Scraptrap Jumpscare</th>\n",
       "      <td>0.0</td>\n",
       "      <td>0.0</td>\n",
       "      <td>0.0</td>\n",
       "      <td>0.0</td>\n",
       "      <td>0.0</td>\n",
       "      <td>0.0</td>\n",
       "      <td>0.0</td>\n",
       "      <td>0.0</td>\n",
       "      <td>0.0</td>\n",
       "      <td>0.0</td>\n",
       "      <td>...</td>\n",
       "      <td>0.000000</td>\n",
       "      <td>0.0</td>\n",
       "      <td>0.0</td>\n",
       "      <td>0.0</td>\n",
       "      <td>0.0</td>\n",
       "      <td>0.000000</td>\n",
       "      <td>0.0</td>\n",
       "      <td>0.000000</td>\n",
       "      <td>0.0</td>\n",
       "      <td>0.0</td>\n",
       "    </tr>\n",
       "    <tr>\n",
       "      <th>looming</th>\n",
       "      <td>0.0</td>\n",
       "      <td>0.0</td>\n",
       "      <td>0.0</td>\n",
       "      <td>0.0</td>\n",
       "      <td>0.0</td>\n",
       "      <td>0.0</td>\n",
       "      <td>0.0</td>\n",
       "      <td>0.0</td>\n",
       "      <td>0.0</td>\n",
       "      <td>0.0</td>\n",
       "      <td>...</td>\n",
       "      <td>0.000000</td>\n",
       "      <td>0.0</td>\n",
       "      <td>0.0</td>\n",
       "      <td>0.0</td>\n",
       "      <td>0.0</td>\n",
       "      <td>0.000000</td>\n",
       "      <td>0.0</td>\n",
       "      <td>0.000000</td>\n",
       "      <td>0.0</td>\n",
       "      <td>0.0</td>\n",
       "    </tr>\n",
       "    <tr>\n",
       "      <th>Just one more video, me at 3:00am</th>\n",
       "      <td>0.0</td>\n",
       "      <td>0.0</td>\n",
       "      <td>0.0</td>\n",
       "      <td>0.0</td>\n",
       "      <td>0.0</td>\n",
       "      <td>0.0</td>\n",
       "      <td>0.0</td>\n",
       "      <td>0.0</td>\n",
       "      <td>0.0</td>\n",
       "      <td>0.0</td>\n",
       "      <td>...</td>\n",
       "      <td>0.804421</td>\n",
       "      <td>0.0</td>\n",
       "      <td>0.0</td>\n",
       "      <td>0.0</td>\n",
       "      <td>0.0</td>\n",
       "      <td>0.000000</td>\n",
       "      <td>0.0</td>\n",
       "      <td>0.000000</td>\n",
       "      <td>0.0</td>\n",
       "      <td>0.0</td>\n",
       "    </tr>\n",
       "    <tr>\n",
       "      <th>\"WoT Funny Moments\" Videos in a nutshell</th>\n",
       "      <td>0.0</td>\n",
       "      <td>0.0</td>\n",
       "      <td>0.0</td>\n",
       "      <td>0.0</td>\n",
       "      <td>0.0</td>\n",
       "      <td>0.0</td>\n",
       "      <td>0.0</td>\n",
       "      <td>0.0</td>\n",
       "      <td>0.0</td>\n",
       "      <td>0.0</td>\n",
       "      <td>...</td>\n",
       "      <td>0.000000</td>\n",
       "      <td>0.0</td>\n",
       "      <td>0.0</td>\n",
       "      <td>0.0</td>\n",
       "      <td>0.0</td>\n",
       "      <td>0.000000</td>\n",
       "      <td>0.0</td>\n",
       "      <td>0.000000</td>\n",
       "      <td>0.0</td>\n",
       "      <td>0.0</td>\n",
       "    </tr>\n",
       "    <tr>\n",
       "      <th>People can't handle the truth</th>\n",
       "      <td>0.0</td>\n",
       "      <td>0.0</td>\n",
       "      <td>0.0</td>\n",
       "      <td>0.0</td>\n",
       "      <td>0.0</td>\n",
       "      <td>0.0</td>\n",
       "      <td>0.0</td>\n",
       "      <td>0.0</td>\n",
       "      <td>0.0</td>\n",
       "      <td>0.0</td>\n",
       "      <td>...</td>\n",
       "      <td>0.000000</td>\n",
       "      <td>0.0</td>\n",
       "      <td>0.0</td>\n",
       "      <td>0.0</td>\n",
       "      <td>0.0</td>\n",
       "      <td>0.000000</td>\n",
       "      <td>0.0</td>\n",
       "      <td>0.000000</td>\n",
       "      <td>0.0</td>\n",
       "      <td>0.0</td>\n",
       "    </tr>\n",
       "    <tr>\n",
       "      <th>The Army Is Officially Honoring Three Slain JROTC Cadets For Their Heroism During The Florida Shooting</th>\n",
       "      <td>0.0</td>\n",
       "      <td>0.0</td>\n",
       "      <td>0.0</td>\n",
       "      <td>0.0</td>\n",
       "      <td>0.0</td>\n",
       "      <td>0.0</td>\n",
       "      <td>0.0</td>\n",
       "      <td>0.0</td>\n",
       "      <td>0.0</td>\n",
       "      <td>0.0</td>\n",
       "      <td>...</td>\n",
       "      <td>0.000000</td>\n",
       "      <td>0.0</td>\n",
       "      <td>0.0</td>\n",
       "      <td>0.0</td>\n",
       "      <td>0.0</td>\n",
       "      <td>0.000000</td>\n",
       "      <td>0.0</td>\n",
       "      <td>0.000000</td>\n",
       "      <td>0.0</td>\n",
       "      <td>0.0</td>\n",
       "    </tr>\n",
       "    <tr>\n",
       "      <th>Jon if he was a trash subreddit (guys chill it’s ironic)</th>\n",
       "      <td>0.0</td>\n",
       "      <td>0.0</td>\n",
       "      <td>0.0</td>\n",
       "      <td>0.0</td>\n",
       "      <td>0.0</td>\n",
       "      <td>0.0</td>\n",
       "      <td>0.0</td>\n",
       "      <td>0.0</td>\n",
       "      <td>0.0</td>\n",
       "      <td>0.0</td>\n",
       "      <td>...</td>\n",
       "      <td>0.000000</td>\n",
       "      <td>0.0</td>\n",
       "      <td>0.0</td>\n",
       "      <td>0.0</td>\n",
       "      <td>0.0</td>\n",
       "      <td>0.000000</td>\n",
       "      <td>0.0</td>\n",
       "      <td>0.000000</td>\n",
       "      <td>0.0</td>\n",
       "      <td>0.0</td>\n",
       "    </tr>\n",
       "    <tr>\n",
       "      <th>Heavenly customer care</th>\n",
       "      <td>0.0</td>\n",
       "      <td>0.0</td>\n",
       "      <td>0.0</td>\n",
       "      <td>0.0</td>\n",
       "      <td>0.0</td>\n",
       "      <td>0.0</td>\n",
       "      <td>0.0</td>\n",
       "      <td>0.0</td>\n",
       "      <td>0.0</td>\n",
       "      <td>0.0</td>\n",
       "      <td>...</td>\n",
       "      <td>0.000000</td>\n",
       "      <td>0.0</td>\n",
       "      <td>0.0</td>\n",
       "      <td>0.0</td>\n",
       "      <td>0.0</td>\n",
       "      <td>0.000000</td>\n",
       "      <td>0.0</td>\n",
       "      <td>0.000000</td>\n",
       "      <td>0.0</td>\n",
       "      <td>0.0</td>\n",
       "    </tr>\n",
       "    <tr>\n",
       "      <th>[WP] Everyone has the Mega Man-like ability to steal another person's most valuable trait by defeating them in battle. You have the world's most valuable trait - incredible, inexplicable dumb luck - and you've won thousands of battle without even knowing you were fighting.</th>\n",
       "      <td>0.0</td>\n",
       "      <td>0.0</td>\n",
       "      <td>0.0</td>\n",
       "      <td>0.0</td>\n",
       "      <td>0.0</td>\n",
       "      <td>0.0</td>\n",
       "      <td>0.0</td>\n",
       "      <td>0.0</td>\n",
       "      <td>0.0</td>\n",
       "      <td>0.0</td>\n",
       "      <td>...</td>\n",
       "      <td>0.000000</td>\n",
       "      <td>0.0</td>\n",
       "      <td>0.0</td>\n",
       "      <td>0.0</td>\n",
       "      <td>0.0</td>\n",
       "      <td>0.487102</td>\n",
       "      <td>0.0</td>\n",
       "      <td>0.471602</td>\n",
       "      <td>0.0</td>\n",
       "      <td>0.0</td>\n",
       "    </tr>\n",
       "    <tr>\n",
       "      <th>Experimenting with lighting</th>\n",
       "      <td>0.0</td>\n",
       "      <td>0.0</td>\n",
       "      <td>0.0</td>\n",
       "      <td>0.0</td>\n",
       "      <td>0.0</td>\n",
       "      <td>0.0</td>\n",
       "      <td>0.0</td>\n",
       "      <td>0.0</td>\n",
       "      <td>0.0</td>\n",
       "      <td>0.0</td>\n",
       "      <td>...</td>\n",
       "      <td>0.000000</td>\n",
       "      <td>0.0</td>\n",
       "      <td>0.0</td>\n",
       "      <td>0.0</td>\n",
       "      <td>0.0</td>\n",
       "      <td>0.000000</td>\n",
       "      <td>0.0</td>\n",
       "      <td>0.000000</td>\n",
       "      <td>0.0</td>\n",
       "      <td>0.0</td>\n",
       "    </tr>\n",
       "    <tr>\n",
       "      <th>Guy Flipping Over a Fence</th>\n",
       "      <td>0.0</td>\n",
       "      <td>0.0</td>\n",
       "      <td>0.0</td>\n",
       "      <td>0.0</td>\n",
       "      <td>0.0</td>\n",
       "      <td>0.0</td>\n",
       "      <td>0.0</td>\n",
       "      <td>0.0</td>\n",
       "      <td>0.0</td>\n",
       "      <td>0.0</td>\n",
       "      <td>...</td>\n",
       "      <td>0.000000</td>\n",
       "      <td>0.0</td>\n",
       "      <td>0.0</td>\n",
       "      <td>0.0</td>\n",
       "      <td>0.0</td>\n",
       "      <td>0.000000</td>\n",
       "      <td>0.0</td>\n",
       "      <td>0.000000</td>\n",
       "      <td>0.0</td>\n",
       "      <td>0.0</td>\n",
       "    </tr>\n",
       "    <tr>\n",
       "      <th>Not a monster, but a solid structure fighter on bass tackle</th>\n",
       "      <td>0.0</td>\n",
       "      <td>0.0</td>\n",
       "      <td>0.0</td>\n",
       "      <td>0.0</td>\n",
       "      <td>0.0</td>\n",
       "      <td>0.0</td>\n",
       "      <td>0.0</td>\n",
       "      <td>0.0</td>\n",
       "      <td>0.0</td>\n",
       "      <td>0.0</td>\n",
       "      <td>...</td>\n",
       "      <td>0.000000</td>\n",
       "      <td>0.0</td>\n",
       "      <td>0.0</td>\n",
       "      <td>0.0</td>\n",
       "      <td>0.0</td>\n",
       "      <td>0.000000</td>\n",
       "      <td>0.0</td>\n",
       "      <td>0.000000</td>\n",
       "      <td>0.0</td>\n",
       "      <td>0.0</td>\n",
       "    </tr>\n",
       "    <tr>\n",
       "      <th>1965 C10 converted into a camper on airbags</th>\n",
       "      <td>0.0</td>\n",
       "      <td>0.0</td>\n",
       "      <td>0.0</td>\n",
       "      <td>0.0</td>\n",
       "      <td>0.0</td>\n",
       "      <td>0.0</td>\n",
       "      <td>0.0</td>\n",
       "      <td>0.0</td>\n",
       "      <td>0.0</td>\n",
       "      <td>0.0</td>\n",
       "      <td>...</td>\n",
       "      <td>0.000000</td>\n",
       "      <td>0.0</td>\n",
       "      <td>0.0</td>\n",
       "      <td>0.0</td>\n",
       "      <td>0.0</td>\n",
       "      <td>0.000000</td>\n",
       "      <td>0.0</td>\n",
       "      <td>0.000000</td>\n",
       "      <td>0.0</td>\n",
       "      <td>0.0</td>\n",
       "    </tr>\n",
       "    <tr>\n",
       "      <th>[Image] Make sure to live your only life.</th>\n",
       "      <td>0.0</td>\n",
       "      <td>0.0</td>\n",
       "      <td>0.0</td>\n",
       "      <td>0.0</td>\n",
       "      <td>0.0</td>\n",
       "      <td>0.0</td>\n",
       "      <td>0.0</td>\n",
       "      <td>0.0</td>\n",
       "      <td>0.0</td>\n",
       "      <td>0.0</td>\n",
       "      <td>...</td>\n",
       "      <td>0.000000</td>\n",
       "      <td>0.0</td>\n",
       "      <td>0.0</td>\n",
       "      <td>0.0</td>\n",
       "      <td>0.0</td>\n",
       "      <td>0.000000</td>\n",
       "      <td>0.0</td>\n",
       "      <td>0.000000</td>\n",
       "      <td>0.0</td>\n",
       "      <td>0.0</td>\n",
       "    </tr>\n",
       "    <tr>\n",
       "      <th>Joann’s $1/pattern sale-I got competition</th>\n",
       "      <td>0.0</td>\n",
       "      <td>0.0</td>\n",
       "      <td>0.0</td>\n",
       "      <td>0.0</td>\n",
       "      <td>0.0</td>\n",
       "      <td>0.0</td>\n",
       "      <td>0.0</td>\n",
       "      <td>0.0</td>\n",
       "      <td>0.0</td>\n",
       "      <td>0.0</td>\n",
       "      <td>...</td>\n",
       "      <td>0.000000</td>\n",
       "      <td>0.0</td>\n",
       "      <td>0.0</td>\n",
       "      <td>0.0</td>\n",
       "      <td>0.0</td>\n",
       "      <td>0.000000</td>\n",
       "      <td>0.0</td>\n",
       "      <td>0.000000</td>\n",
       "      <td>0.0</td>\n",
       "      <td>0.0</td>\n",
       "    </tr>\n",
       "    <tr>\n",
       "      <th>What I need in my bed</th>\n",
       "      <td>0.0</td>\n",
       "      <td>0.0</td>\n",
       "      <td>0.0</td>\n",
       "      <td>0.0</td>\n",
       "      <td>0.0</td>\n",
       "      <td>0.0</td>\n",
       "      <td>0.0</td>\n",
       "      <td>0.0</td>\n",
       "      <td>0.0</td>\n",
       "      <td>0.0</td>\n",
       "      <td>...</td>\n",
       "      <td>0.000000</td>\n",
       "      <td>0.0</td>\n",
       "      <td>0.0</td>\n",
       "      <td>0.0</td>\n",
       "      <td>0.0</td>\n",
       "      <td>0.000000</td>\n",
       "      <td>0.0</td>\n",
       "      <td>0.000000</td>\n",
       "      <td>0.0</td>\n",
       "      <td>0.0</td>\n",
       "    </tr>\n",
       "    <tr>\n",
       "      <th>[OC]The Pillory</th>\n",
       "      <td>0.0</td>\n",
       "      <td>0.0</td>\n",
       "      <td>0.0</td>\n",
       "      <td>0.0</td>\n",
       "      <td>0.0</td>\n",
       "      <td>0.0</td>\n",
       "      <td>0.0</td>\n",
       "      <td>0.0</td>\n",
       "      <td>0.0</td>\n",
       "      <td>0.0</td>\n",
       "      <td>...</td>\n",
       "      <td>0.000000</td>\n",
       "      <td>0.0</td>\n",
       "      <td>0.0</td>\n",
       "      <td>0.0</td>\n",
       "      <td>0.0</td>\n",
       "      <td>0.000000</td>\n",
       "      <td>0.0</td>\n",
       "      <td>0.000000</td>\n",
       "      <td>0.0</td>\n",
       "      <td>0.0</td>\n",
       "    </tr>\n",
       "    <tr>\n",
       "      <th>Listen in on Coach Pederson as he led the #Eagles to their first #SuperBowl title</th>\n",
       "      <td>0.0</td>\n",
       "      <td>0.0</td>\n",
       "      <td>0.0</td>\n",
       "      <td>0.0</td>\n",
       "      <td>0.0</td>\n",
       "      <td>0.0</td>\n",
       "      <td>0.0</td>\n",
       "      <td>0.0</td>\n",
       "      <td>0.0</td>\n",
       "      <td>0.0</td>\n",
       "      <td>...</td>\n",
       "      <td>0.000000</td>\n",
       "      <td>0.0</td>\n",
       "      <td>0.0</td>\n",
       "      <td>0.0</td>\n",
       "      <td>0.0</td>\n",
       "      <td>0.000000</td>\n",
       "      <td>0.0</td>\n",
       "      <td>0.000000</td>\n",
       "      <td>0.0</td>\n",
       "      <td>0.0</td>\n",
       "    </tr>\n",
       "    <tr>\n",
       "      <th>\"Da...ddy?\"</th>\n",
       "      <td>0.0</td>\n",
       "      <td>0.0</td>\n",
       "      <td>0.0</td>\n",
       "      <td>0.0</td>\n",
       "      <td>0.0</td>\n",
       "      <td>0.0</td>\n",
       "      <td>0.0</td>\n",
       "      <td>0.0</td>\n",
       "      <td>0.0</td>\n",
       "      <td>0.0</td>\n",
       "      <td>...</td>\n",
       "      <td>0.000000</td>\n",
       "      <td>0.0</td>\n",
       "      <td>0.0</td>\n",
       "      <td>0.0</td>\n",
       "      <td>0.0</td>\n",
       "      <td>0.000000</td>\n",
       "      <td>0.0</td>\n",
       "      <td>0.000000</td>\n",
       "      <td>0.0</td>\n",
       "      <td>0.0</td>\n",
       "    </tr>\n",
       "    <tr>\n",
       "      <th>Scumbag auto parts website</th>\n",
       "      <td>0.0</td>\n",
       "      <td>0.0</td>\n",
       "      <td>0.0</td>\n",
       "      <td>0.0</td>\n",
       "      <td>0.0</td>\n",
       "      <td>0.0</td>\n",
       "      <td>0.0</td>\n",
       "      <td>0.0</td>\n",
       "      <td>0.0</td>\n",
       "      <td>0.0</td>\n",
       "      <td>...</td>\n",
       "      <td>0.000000</td>\n",
       "      <td>0.0</td>\n",
       "      <td>0.0</td>\n",
       "      <td>0.0</td>\n",
       "      <td>0.0</td>\n",
       "      <td>0.000000</td>\n",
       "      <td>0.0</td>\n",
       "      <td>0.000000</td>\n",
       "      <td>0.0</td>\n",
       "      <td>0.0</td>\n",
       "    </tr>\n",
       "    <tr>\n",
       "      <th>fallen massive b defence to win the game</th>\n",
       "      <td>0.0</td>\n",
       "      <td>0.0</td>\n",
       "      <td>0.0</td>\n",
       "      <td>0.0</td>\n",
       "      <td>0.0</td>\n",
       "      <td>0.0</td>\n",
       "      <td>0.0</td>\n",
       "      <td>0.0</td>\n",
       "      <td>0.0</td>\n",
       "      <td>0.0</td>\n",
       "      <td>...</td>\n",
       "      <td>0.000000</td>\n",
       "      <td>0.0</td>\n",
       "      <td>0.0</td>\n",
       "      <td>0.0</td>\n",
       "      <td>0.0</td>\n",
       "      <td>0.000000</td>\n",
       "      <td>0.0</td>\n",
       "      <td>0.000000</td>\n",
       "      <td>0.0</td>\n",
       "      <td>0.0</td>\n",
       "    </tr>\n",
       "    <tr>\n",
       "      <th>WHY HAS NO ONE TALKED ABOUT THIS???</th>\n",
       "      <td>0.0</td>\n",
       "      <td>0.0</td>\n",
       "      <td>0.0</td>\n",
       "      <td>0.0</td>\n",
       "      <td>0.0</td>\n",
       "      <td>0.0</td>\n",
       "      <td>0.0</td>\n",
       "      <td>0.0</td>\n",
       "      <td>0.0</td>\n",
       "      <td>0.0</td>\n",
       "      <td>...</td>\n",
       "      <td>0.000000</td>\n",
       "      <td>0.0</td>\n",
       "      <td>0.0</td>\n",
       "      <td>0.0</td>\n",
       "      <td>0.0</td>\n",
       "      <td>0.000000</td>\n",
       "      <td>0.0</td>\n",
       "      <td>0.000000</td>\n",
       "      <td>0.0</td>\n",
       "      <td>0.0</td>\n",
       "    </tr>\n",
       "  </tbody>\n",
       "</table>\n",
       "<p>25 rows × 100 columns</p>\n",
       "</div>"
      ],
      "text/plain": [
       "                                                    000   10   20  2018  ago  \\\n",
       "Titles                                                                         \n",
       "New travel method                                   0.0  0.0  0.0   0.0  0.0   \n",
       "Average ELO of Overwatch community as shown by ...  0.0  0.0  0.0   0.0  0.0   \n",
       "TRUSTBUSTERS                                        0.0  0.0  0.0   0.0  0.0   \n",
       "[SFM] Scraptrap Jumpscare                           0.0  0.0  0.0   0.0  0.0   \n",
       "looming                                             0.0  0.0  0.0   0.0  0.0   \n",
       "Just one more video, me at 3:00am                   0.0  0.0  0.0   0.0  0.0   \n",
       "\"WoT Funny Moments\" Videos in a nutshell            0.0  0.0  0.0   0.0  0.0   \n",
       "People can't handle the truth                       0.0  0.0  0.0   0.0  0.0   \n",
       "The Army Is Officially Honoring Three Slain JRO...  0.0  0.0  0.0   0.0  0.0   \n",
       "Jon if he was a trash subreddit (guys chill it’...  0.0  0.0  0.0   0.0  0.0   \n",
       "Heavenly customer care                              0.0  0.0  0.0   0.0  0.0   \n",
       "[WP] Everyone has the Mega Man-like ability to ...  0.0  0.0  0.0   0.0  0.0   \n",
       "Experimenting with lighting                         0.0  0.0  0.0   0.0  0.0   \n",
       "Guy Flipping Over a Fence                           0.0  0.0  0.0   0.0  0.0   \n",
       "Not a monster, but a solid structure fighter on...  0.0  0.0  0.0   0.0  0.0   \n",
       "1965 C10 converted into a camper on airbags         0.0  0.0  0.0   0.0  0.0   \n",
       "[Image] Make sure to live your only life.           0.0  0.0  0.0   0.0  0.0   \n",
       "Joann’s $1/pattern sale-I got competition           0.0  0.0  0.0   0.0  0.0   \n",
       "What I need in my bed                               0.0  0.0  0.0   0.0  0.0   \n",
       "[OC]The Pillory                                     0.0  0.0  0.0   0.0  0.0   \n",
       "Listen in on Coach Pederson as he led the #Eagl...  0.0  0.0  0.0   0.0  0.0   \n",
       "\"Da...ddy?\"                                         0.0  0.0  0.0   0.0  0.0   \n",
       "Scumbag auto parts website                          0.0  0.0  0.0   0.0  0.0   \n",
       "fallen massive b defence to win the game            0.0  0.0  0.0   0.0  0.0   \n",
       "WHY HAS NO ONE TALKED ABOUT THIS???                 0.0  0.0  0.0   0.0  0.0   \n",
       "\n",
       "                                                    art  away  ban  beautiful  \\\n",
       "Titles                                                                          \n",
       "New travel method                                   0.0   0.0  0.0        0.0   \n",
       "Average ELO of Overwatch community as shown by ...  0.0   0.0  0.0        0.0   \n",
       "TRUSTBUSTERS                                        0.0   0.0  0.0        0.0   \n",
       "[SFM] Scraptrap Jumpscare                           0.0   0.0  0.0        0.0   \n",
       "looming                                             0.0   0.0  0.0        0.0   \n",
       "Just one more video, me at 3:00am                   0.0   0.0  0.0        0.0   \n",
       "\"WoT Funny Moments\" Videos in a nutshell            0.0   0.0  0.0        0.0   \n",
       "People can't handle the truth                       0.0   0.0  0.0        0.0   \n",
       "The Army Is Officially Honoring Three Slain JRO...  0.0   0.0  0.0        0.0   \n",
       "Jon if he was a trash subreddit (guys chill it’...  0.0   0.0  0.0        0.0   \n",
       "Heavenly customer care                              0.0   0.0  0.0        0.0   \n",
       "[WP] Everyone has the Mega Man-like ability to ...  0.0   0.0  0.0        0.0   \n",
       "Experimenting with lighting                         0.0   0.0  0.0        0.0   \n",
       "Guy Flipping Over a Fence                           0.0   0.0  0.0        0.0   \n",
       "Not a monster, but a solid structure fighter on...  0.0   0.0  0.0        0.0   \n",
       "1965 C10 converted into a camper on airbags         0.0   0.0  0.0        0.0   \n",
       "[Image] Make sure to live your only life.           0.0   0.0  0.0        0.0   \n",
       "Joann’s $1/pattern sale-I got competition           0.0   0.0  0.0        0.0   \n",
       "What I need in my bed                               0.0   0.0  0.0        0.0   \n",
       "[OC]The Pillory                                     0.0   0.0  0.0        0.0   \n",
       "Listen in on Coach Pederson as he led the #Eagl...  0.0   0.0  0.0        0.0   \n",
       "\"Da...ddy?\"                                         0.0   0.0  0.0        0.0   \n",
       "Scumbag auto parts website                          0.0   0.0  0.0        0.0   \n",
       "fallen massive b defence to win the game            0.0   0.0  0.0        0.0   \n",
       "WHY HAS NO ONE TALKED ABOUT THIS???                 0.0   0.0  0.0        0.0   \n",
       "\n",
       "                                                    best  ...       video  \\\n",
       "Titles                                                    ...               \n",
       "New travel method                                    0.0  ...    0.000000   \n",
       "Average ELO of Overwatch community as shown by ...   0.0  ...    0.000000   \n",
       "TRUSTBUSTERS                                         0.0  ...    0.000000   \n",
       "[SFM] Scraptrap Jumpscare                            0.0  ...    0.000000   \n",
       "looming                                              0.0  ...    0.000000   \n",
       "Just one more video, me at 3:00am                    0.0  ...    0.804421   \n",
       "\"WoT Funny Moments\" Videos in a nutshell             0.0  ...    0.000000   \n",
       "People can't handle the truth                        0.0  ...    0.000000   \n",
       "The Army Is Officially Honoring Three Slain JRO...   0.0  ...    0.000000   \n",
       "Jon if he was a trash subreddit (guys chill it’...   0.0  ...    0.000000   \n",
       "Heavenly customer care                               0.0  ...    0.000000   \n",
       "[WP] Everyone has the Mega Man-like ability to ...   0.0  ...    0.000000   \n",
       "Experimenting with lighting                          0.0  ...    0.000000   \n",
       "Guy Flipping Over a Fence                            0.0  ...    0.000000   \n",
       "Not a monster, but a solid structure fighter on...   0.0  ...    0.000000   \n",
       "1965 C10 converted into a camper on airbags          0.0  ...    0.000000   \n",
       "[Image] Make sure to live your only life.            0.0  ...    0.000000   \n",
       "Joann’s $1/pattern sale-I got competition            0.0  ...    0.000000   \n",
       "What I need in my bed                                0.0  ...    0.000000   \n",
       "[OC]The Pillory                                      0.0  ...    0.000000   \n",
       "Listen in on Coach Pederson as he led the #Eagl...   0.0  ...    0.000000   \n",
       "\"Da...ddy?\"                                          0.0  ...    0.000000   \n",
       "Scumbag auto parts website                           0.0  ...    0.000000   \n",
       "fallen massive b defence to win the game             0.0  ...    0.000000   \n",
       "WHY HAS NO ONE TALKED ABOUT THIS???                  0.0  ...    0.000000   \n",
       "\n",
       "                                                     vs  want  way  week  \\\n",
       "Titles                                                                     \n",
       "New travel method                                   0.0   0.0  0.0   0.0   \n",
       "Average ELO of Overwatch community as shown by ...  0.0   0.0  0.0   0.0   \n",
       "TRUSTBUSTERS                                        0.0   0.0  0.0   0.0   \n",
       "[SFM] Scraptrap Jumpscare                           0.0   0.0  0.0   0.0   \n",
       "looming                                             0.0   0.0  0.0   0.0   \n",
       "Just one more video, me at 3:00am                   0.0   0.0  0.0   0.0   \n",
       "\"WoT Funny Moments\" Videos in a nutshell            0.0   0.0  0.0   0.0   \n",
       "People can't handle the truth                       0.0   0.0  0.0   0.0   \n",
       "The Army Is Officially Honoring Three Slain JRO...  0.0   0.0  0.0   0.0   \n",
       "Jon if he was a trash subreddit (guys chill it’...  0.0   0.0  0.0   0.0   \n",
       "Heavenly customer care                              0.0   0.0  0.0   0.0   \n",
       "[WP] Everyone has the Mega Man-like ability to ...  0.0   0.0  0.0   0.0   \n",
       "Experimenting with lighting                         0.0   0.0  0.0   0.0   \n",
       "Guy Flipping Over a Fence                           0.0   0.0  0.0   0.0   \n",
       "Not a monster, but a solid structure fighter on...  0.0   0.0  0.0   0.0   \n",
       "1965 C10 converted into a camper on airbags         0.0   0.0  0.0   0.0   \n",
       "[Image] Make sure to live your only life.           0.0   0.0  0.0   0.0   \n",
       "Joann’s $1/pattern sale-I got competition           0.0   0.0  0.0   0.0   \n",
       "What I need in my bed                               0.0   0.0  0.0   0.0   \n",
       "[OC]The Pillory                                     0.0   0.0  0.0   0.0   \n",
       "Listen in on Coach Pederson as he led the #Eagl...  0.0   0.0  0.0   0.0   \n",
       "\"Da...ddy?\"                                         0.0   0.0  0.0   0.0   \n",
       "Scumbag auto parts website                          0.0   0.0  0.0   0.0   \n",
       "fallen massive b defence to win the game            0.0   0.0  0.0   0.0   \n",
       "WHY HAS NO ONE TALKED ABOUT THIS???                 0.0   0.0  0.0   0.0   \n",
       "\n",
       "                                                         won  work     world  \\\n",
       "Titles                                                                         \n",
       "New travel method                                   0.000000   0.0  0.000000   \n",
       "Average ELO of Overwatch community as shown by ...  0.000000   0.0  0.000000   \n",
       "TRUSTBUSTERS                                        0.000000   0.0  0.000000   \n",
       "[SFM] Scraptrap Jumpscare                           0.000000   0.0  0.000000   \n",
       "looming                                             0.000000   0.0  0.000000   \n",
       "Just one more video, me at 3:00am                   0.000000   0.0  0.000000   \n",
       "\"WoT Funny Moments\" Videos in a nutshell            0.000000   0.0  0.000000   \n",
       "People can't handle the truth                       0.000000   0.0  0.000000   \n",
       "The Army Is Officially Honoring Three Slain JRO...  0.000000   0.0  0.000000   \n",
       "Jon if he was a trash subreddit (guys chill it’...  0.000000   0.0  0.000000   \n",
       "Heavenly customer care                              0.000000   0.0  0.000000   \n",
       "[WP] Everyone has the Mega Man-like ability to ...  0.487102   0.0  0.471602   \n",
       "Experimenting with lighting                         0.000000   0.0  0.000000   \n",
       "Guy Flipping Over a Fence                           0.000000   0.0  0.000000   \n",
       "Not a monster, but a solid structure fighter on...  0.000000   0.0  0.000000   \n",
       "1965 C10 converted into a camper on airbags         0.000000   0.0  0.000000   \n",
       "[Image] Make sure to live your only life.           0.000000   0.0  0.000000   \n",
       "Joann’s $1/pattern sale-I got competition           0.000000   0.0  0.000000   \n",
       "What I need in my bed                               0.000000   0.0  0.000000   \n",
       "[OC]The Pillory                                     0.000000   0.0  0.000000   \n",
       "Listen in on Coach Pederson as he led the #Eagl...  0.000000   0.0  0.000000   \n",
       "\"Da...ddy?\"                                         0.000000   0.0  0.000000   \n",
       "Scumbag auto parts website                          0.000000   0.0  0.000000   \n",
       "fallen massive b defence to win the game            0.000000   0.0  0.000000   \n",
       "WHY HAS NO ONE TALKED ABOUT THIS???                 0.000000   0.0  0.000000   \n",
       "\n",
       "                                                    year  years  \n",
       "Titles                                                           \n",
       "New travel method                                    0.0    0.0  \n",
       "Average ELO of Overwatch community as shown by ...   0.0    0.0  \n",
       "TRUSTBUSTERS                                         0.0    0.0  \n",
       "[SFM] Scraptrap Jumpscare                            0.0    0.0  \n",
       "looming                                              0.0    0.0  \n",
       "Just one more video, me at 3:00am                    0.0    0.0  \n",
       "\"WoT Funny Moments\" Videos in a nutshell             0.0    0.0  \n",
       "People can't handle the truth                        0.0    0.0  \n",
       "The Army Is Officially Honoring Three Slain JRO...   0.0    0.0  \n",
       "Jon if he was a trash subreddit (guys chill it’...   0.0    0.0  \n",
       "Heavenly customer care                               0.0    0.0  \n",
       "[WP] Everyone has the Mega Man-like ability to ...   0.0    0.0  \n",
       "Experimenting with lighting                          0.0    0.0  \n",
       "Guy Flipping Over a Fence                            0.0    0.0  \n",
       "Not a monster, but a solid structure fighter on...   0.0    0.0  \n",
       "1965 C10 converted into a camper on airbags          0.0    0.0  \n",
       "[Image] Make sure to live your only life.            0.0    0.0  \n",
       "Joann’s $1/pattern sale-I got competition            0.0    0.0  \n",
       "What I need in my bed                                0.0    0.0  \n",
       "[OC]The Pillory                                      0.0    0.0  \n",
       "Listen in on Coach Pederson as he led the #Eagl...   0.0    0.0  \n",
       "\"Da...ddy?\"                                          0.0    0.0  \n",
       "Scumbag auto parts website                           0.0    0.0  \n",
       "fallen massive b defence to win the game             0.0    0.0  \n",
       "WHY HAS NO ONE TALKED ABOUT THIS???                  0.0    0.0  \n",
       "\n",
       "[25 rows x 100 columns]"
      ]
     },
     "execution_count": 611,
     "metadata": {},
     "output_type": "execute_result"
    }
   ],
   "source": [
    "tvec_df.head(25)"
   ]
  },
  {
   "cell_type": "markdown",
   "metadata": {},
   "source": [
    "## Predicting comments using Random Forests + Another Classifier"
   ]
  },
  {
   "cell_type": "code",
   "execution_count": 612,
   "metadata": {},
   "outputs": [
    {
     "data": {
      "text/html": [
       "<div>\n",
       "<style>\n",
       "    .dataframe thead tr:only-child th {\n",
       "        text-align: right;\n",
       "    }\n",
       "\n",
       "    .dataframe thead th {\n",
       "        text-align: left;\n",
       "    }\n",
       "\n",
       "    .dataframe tbody tr th {\n",
       "        vertical-align: top;\n",
       "    }\n",
       "</style>\n",
       "<table border=\"1\" class=\"dataframe\">\n",
       "  <thead>\n",
       "    <tr style=\"text-align: right;\">\n",
       "      <th></th>\n",
       "      <th>Comments</th>\n",
       "      <th>Subreddits</th>\n",
       "      <th>Time</th>\n",
       "      <th>Titles</th>\n",
       "      <th>Upvotes</th>\n",
       "      <th>Above_Below_Median</th>\n",
       "      <th>Above_Below_Mean</th>\n",
       "      <th>Date Only</th>\n",
       "      <th>Hour of Day</th>\n",
       "      <th>Hours</th>\n",
       "      <th>Work Day Hours</th>\n",
       "      <th>Late Night Hours</th>\n",
       "      <th>Morning Hours</th>\n",
       "      <th>Evening/Night Hours</th>\n",
       "    </tr>\n",
       "  </thead>\n",
       "  <tbody>\n",
       "    <tr>\n",
       "      <th>0</th>\n",
       "      <td>859</td>\n",
       "      <td>todayilearned</td>\n",
       "      <td>2018-02-20 20:21:01-05:00</td>\n",
       "      <td>TIL that comedian Ryan Stiles from Whose Line ...</td>\n",
       "      <td>51985</td>\n",
       "      <td>Above</td>\n",
       "      <td>Above</td>\n",
       "      <td>02-20-18</td>\n",
       "      <td>15</td>\n",
       "      <td>10</td>\n",
       "      <td>1</td>\n",
       "      <td>0</td>\n",
       "      <td>0</td>\n",
       "      <td>0</td>\n",
       "    </tr>\n",
       "    <tr>\n",
       "      <th>1</th>\n",
       "      <td>301</td>\n",
       "      <td>NintendoSwitch</td>\n",
       "      <td>2018-02-20 22:17:03-05:00</td>\n",
       "      <td>Less 'rip and tear', more 'post and snark'...</td>\n",
       "      <td>8222</td>\n",
       "      <td>Above</td>\n",
       "      <td>Above</td>\n",
       "      <td>02-20-18</td>\n",
       "      <td>17</td>\n",
       "      <td>12</td>\n",
       "      <td>1</td>\n",
       "      <td>0</td>\n",
       "      <td>0</td>\n",
       "      <td>0</td>\n",
       "    </tr>\n",
       "    <tr>\n",
       "      <th>2</th>\n",
       "      <td>446</td>\n",
       "      <td>videos</td>\n",
       "      <td>2018-02-20 21:10:50-05:00</td>\n",
       "      <td>Heavy rain leaves trail under cristaline water...</td>\n",
       "      <td>10445</td>\n",
       "      <td>Above</td>\n",
       "      <td>Above</td>\n",
       "      <td>02-20-18</td>\n",
       "      <td>16</td>\n",
       "      <td>11</td>\n",
       "      <td>1</td>\n",
       "      <td>0</td>\n",
       "      <td>0</td>\n",
       "      <td>0</td>\n",
       "    </tr>\n",
       "    <tr>\n",
       "      <th>3</th>\n",
       "      <td>714</td>\n",
       "      <td>gaming</td>\n",
       "      <td>2018-02-20 20:25:42-05:00</td>\n",
       "      <td>Modern Warfare 2</td>\n",
       "      <td>18943</td>\n",
       "      <td>Above</td>\n",
       "      <td>Above</td>\n",
       "      <td>02-20-18</td>\n",
       "      <td>15</td>\n",
       "      <td>10</td>\n",
       "      <td>1</td>\n",
       "      <td>0</td>\n",
       "      <td>0</td>\n",
       "      <td>0</td>\n",
       "    </tr>\n",
       "    <tr>\n",
       "      <th>4</th>\n",
       "      <td>395</td>\n",
       "      <td>gifs</td>\n",
       "      <td>2018-02-20 20:00:19-05:00</td>\n",
       "      <td>Shocking Artistry...</td>\n",
       "      <td>25855</td>\n",
       "      <td>Above</td>\n",
       "      <td>Above</td>\n",
       "      <td>02-20-18</td>\n",
       "      <td>15</td>\n",
       "      <td>10</td>\n",
       "      <td>1</td>\n",
       "      <td>0</td>\n",
       "      <td>0</td>\n",
       "      <td>0</td>\n",
       "    </tr>\n",
       "  </tbody>\n",
       "</table>\n",
       "</div>"
      ],
      "text/plain": [
       "   Comments      Subreddits                      Time  \\\n",
       "0       859   todayilearned 2018-02-20 20:21:01-05:00   \n",
       "1       301  NintendoSwitch 2018-02-20 22:17:03-05:00   \n",
       "2       446          videos 2018-02-20 21:10:50-05:00   \n",
       "3       714          gaming 2018-02-20 20:25:42-05:00   \n",
       "4       395            gifs 2018-02-20 20:00:19-05:00   \n",
       "\n",
       "                                              Titles  Upvotes  \\\n",
       "0  TIL that comedian Ryan Stiles from Whose Line ...    51985   \n",
       "1      Less 'rip and tear', more 'post and snark'...     8222   \n",
       "2  Heavy rain leaves trail under cristaline water...    10445   \n",
       "3                                   Modern Warfare 2    18943   \n",
       "4                               Shocking Artistry...    25855   \n",
       "\n",
       "  Above_Below_Median Above_Below_Mean Date Only  Hour of Day  Hours  \\\n",
       "0              Above            Above  02-20-18           15     10   \n",
       "1              Above            Above  02-20-18           17     12   \n",
       "2              Above            Above  02-20-18           16     11   \n",
       "3              Above            Above  02-20-18           15     10   \n",
       "4              Above            Above  02-20-18           15     10   \n",
       "\n",
       "   Work Day Hours  Late Night Hours  Morning Hours  Evening/Night Hours  \n",
       "0               1                 0              0                    0  \n",
       "1               1                 0              0                    0  \n",
       "2               1                 0              0                    0  \n",
       "3               1                 0              0                    0  \n",
       "4               1                 0              0                    0  "
      ]
     },
     "execution_count": 612,
     "metadata": {},
     "output_type": "execute_result"
    }
   ],
   "source": [
    "reddit.head()"
   ]
  },
  {
   "cell_type": "markdown",
   "metadata": {},
   "source": [
    "#### Create a Random Forest model to predict High/Low number of comments using Sklearn. Start by ONLY using the subreddit as a feature. "
   ]
  },
  {
   "cell_type": "code",
   "execution_count": 694,
   "metadata": {
    "collapsed": true
   },
   "outputs": [],
   "source": [
    "X = pd.get_dummies(reddit['Subreddits'])\n",
    "y = reddit['Above_Below_Median']\n",
    "from sklearn.model_selection import train_test_split\n",
    "X_train, X_test, y_train, y_test = train_test_split(X, y, test_size=0.3, random_state=42)"
   ]
  },
  {
   "cell_type": "code",
   "execution_count": 695,
   "metadata": {
    "collapsed": true
   },
   "outputs": [],
   "source": [
    "from sklearn.model_selection import cross_val_score, StratifiedKFold\n",
    "from sklearn.ensemble import RandomForestClassifier, ExtraTreesClassifier, BaggingClassifier"
   ]
  },
  {
   "cell_type": "code",
   "execution_count": 696,
   "metadata": {},
   "outputs": [
    {
     "data": {
      "text/plain": [
       "0.52518978605935129"
      ]
     },
     "execution_count": 696,
     "metadata": {},
     "output_type": "execute_result"
    }
   ],
   "source": [
    "forest = RandomForestClassifier(max_depth = 10, n_estimators=5, random_state=42)\n",
    "forest.fit(X_train, y_train)\n",
    "forest.score(X_test, y_test)"
   ]
  },
  {
   "cell_type": "markdown",
   "metadata": {},
   "source": [
    "#### So the model isn't bad. It is only performing slightly above 50. Let's do the same thing with a logistic regression!"
   ]
  },
  {
   "cell_type": "markdown",
   "metadata": {},
   "source": [
    "### Logistic Regression"
   ]
  },
  {
   "cell_type": "code",
   "execution_count": 705,
   "metadata": {},
   "outputs": [
    {
     "data": {
      "text/plain": [
       "array([2, 2, 2, ..., 2, 2, 2])"
      ]
     },
     "execution_count": 705,
     "metadata": {},
     "output_type": "execute_result"
    }
   ],
   "source": [
    "X = pd.get_dummies(reddit['Subreddits'])\n",
    "y = reddit['Comments']\n",
    "X_train, X_test, y_train, y_test = train_test_split(X, y, test_size=0.3, random_state=42)\n",
    "\n",
    "from sklearn.linear_model import LogisticRegression\n",
    "\n",
    "logreg = LogisticRegression()\n",
    "logreg.fit(X_train, y_train)\n",
    "logreg.predict(X_test)"
   ]
  },
  {
   "cell_type": "markdown",
   "metadata": {},
   "source": [
    "This isn't great as the Random Forest classifier using the same variables for this model."
   ]
  },
  {
   "cell_type": "markdown",
   "metadata": {},
   "source": [
    "#### Create a few new variables in your dataframe to represent interesting features of a thread title.\n",
    "- For example, create a feature that represents whether 'cat' is in the title or whether 'funny' is in the title. \n",
    "- Then build a new Random Forest with these features. Do they add any value?\n",
    "- After creating these variables, use count-vectorizer to create features based on the words in the thread titles.\n",
    "- Build a new random forest model with subreddit and these new features included."
   ]
  },
  {
   "cell_type": "code",
   "execution_count": 772,
   "metadata": {
    "collapsed": true
   },
   "outputs": [],
   "source": [
    "#Since a good chunk of Reddit posts are posted between 10am to 3pm and also in the morning, then I want to look to see\n",
    "#if that, along with upvotes greatly predicts if it's above or below the median number of comments.\n",
    "d\n",
    "X = reddit[['Work Day Hours', 'Morning Hours', 'Upvotes']]\n",
    "y = reddit['Above_Below_Median']\n",
    "X_train, X_test, y_train, y_test = train_test_split(X, y, test_size=0.3, random_state=42)"
   ]
  },
  {
   "cell_type": "code",
   "execution_count": 729,
   "metadata": {},
   "outputs": [
    {
     "data": {
      "text/plain": [
       "0.71014492753623193"
      ]
     },
     "execution_count": 729,
     "metadata": {},
     "output_type": "execute_result"
    }
   ],
   "source": [
    "forest = RandomForestClassifier(max_depth = 10, n_estimators=5, random_state=42)\n",
    "forest.fit(X_train, y_train)\n",
    "forest.score(X_test, y_test)    "
   ]
  },
  {
   "cell_type": "markdown",
   "metadata": {},
   "source": [
    "This is better than before! It seems to predict comments more accurately!"
   ]
  },
  {
   "cell_type": "markdown",
   "metadata": {},
   "source": [
    "I want to look at the number of occurrences of the words in a title to predict comments."
   ]
  },
  {
   "cell_type": "code",
   "execution_count": 627,
   "metadata": {
    "collapsed": true
   },
   "outputs": [],
   "source": [
    "combined = pd.concat([reddit, cvec_df], axis=1, join_axes=[reddit.index])"
   ]
  },
  {
   "cell_type": "code",
   "execution_count": 688,
   "metadata": {},
   "outputs": [
    {
     "data": {
      "text/html": [
       "<div>\n",
       "<style>\n",
       "    .dataframe thead tr:only-child th {\n",
       "        text-align: right;\n",
       "    }\n",
       "\n",
       "    .dataframe thead th {\n",
       "        text-align: left;\n",
       "    }\n",
       "\n",
       "    .dataframe tbody tr th {\n",
       "        vertical-align: top;\n",
       "    }\n",
       "</style>\n",
       "<table border=\"1\" class=\"dataframe\">\n",
       "  <thead>\n",
       "    <tr style=\"text-align: right;\">\n",
       "      <th></th>\n",
       "      <th>ago</th>\n",
       "      <th>art</th>\n",
       "      <th>away</th>\n",
       "      <th>ban</th>\n",
       "      <th>beautiful</th>\n",
       "      <th>best</th>\n",
       "      <th>big</th>\n",
       "      <th>birthday</th>\n",
       "      <th>black</th>\n",
       "      <th>car</th>\n",
       "      <th>...</th>\n",
       "      <th>video</th>\n",
       "      <th>vs</th>\n",
       "      <th>want</th>\n",
       "      <th>way</th>\n",
       "      <th>week</th>\n",
       "      <th>won</th>\n",
       "      <th>work</th>\n",
       "      <th>world</th>\n",
       "      <th>year</th>\n",
       "      <th>years</th>\n",
       "    </tr>\n",
       "  </thead>\n",
       "  <tbody>\n",
       "    <tr>\n",
       "      <th>0</th>\n",
       "      <td>0</td>\n",
       "      <td>0</td>\n",
       "      <td>0</td>\n",
       "      <td>0</td>\n",
       "      <td>0</td>\n",
       "      <td>0</td>\n",
       "      <td>0</td>\n",
       "      <td>0</td>\n",
       "      <td>0</td>\n",
       "      <td>0</td>\n",
       "      <td>...</td>\n",
       "      <td>0</td>\n",
       "      <td>0</td>\n",
       "      <td>0</td>\n",
       "      <td>0</td>\n",
       "      <td>0</td>\n",
       "      <td>0</td>\n",
       "      <td>0</td>\n",
       "      <td>0</td>\n",
       "      <td>0</td>\n",
       "      <td>0</td>\n",
       "    </tr>\n",
       "    <tr>\n",
       "      <th>1</th>\n",
       "      <td>0</td>\n",
       "      <td>0</td>\n",
       "      <td>0</td>\n",
       "      <td>0</td>\n",
       "      <td>0</td>\n",
       "      <td>0</td>\n",
       "      <td>0</td>\n",
       "      <td>0</td>\n",
       "      <td>0</td>\n",
       "      <td>0</td>\n",
       "      <td>...</td>\n",
       "      <td>0</td>\n",
       "      <td>0</td>\n",
       "      <td>0</td>\n",
       "      <td>0</td>\n",
       "      <td>0</td>\n",
       "      <td>0</td>\n",
       "      <td>0</td>\n",
       "      <td>0</td>\n",
       "      <td>0</td>\n",
       "      <td>0</td>\n",
       "    </tr>\n",
       "    <tr>\n",
       "      <th>2</th>\n",
       "      <td>0</td>\n",
       "      <td>0</td>\n",
       "      <td>0</td>\n",
       "      <td>0</td>\n",
       "      <td>0</td>\n",
       "      <td>0</td>\n",
       "      <td>0</td>\n",
       "      <td>0</td>\n",
       "      <td>0</td>\n",
       "      <td>0</td>\n",
       "      <td>...</td>\n",
       "      <td>0</td>\n",
       "      <td>0</td>\n",
       "      <td>0</td>\n",
       "      <td>0</td>\n",
       "      <td>0</td>\n",
       "      <td>0</td>\n",
       "      <td>0</td>\n",
       "      <td>0</td>\n",
       "      <td>0</td>\n",
       "      <td>0</td>\n",
       "    </tr>\n",
       "    <tr>\n",
       "      <th>3</th>\n",
       "      <td>0</td>\n",
       "      <td>0</td>\n",
       "      <td>0</td>\n",
       "      <td>0</td>\n",
       "      <td>0</td>\n",
       "      <td>0</td>\n",
       "      <td>0</td>\n",
       "      <td>0</td>\n",
       "      <td>0</td>\n",
       "      <td>0</td>\n",
       "      <td>...</td>\n",
       "      <td>0</td>\n",
       "      <td>0</td>\n",
       "      <td>0</td>\n",
       "      <td>0</td>\n",
       "      <td>0</td>\n",
       "      <td>0</td>\n",
       "      <td>0</td>\n",
       "      <td>0</td>\n",
       "      <td>0</td>\n",
       "      <td>0</td>\n",
       "    </tr>\n",
       "    <tr>\n",
       "      <th>4</th>\n",
       "      <td>0</td>\n",
       "      <td>0</td>\n",
       "      <td>0</td>\n",
       "      <td>0</td>\n",
       "      <td>0</td>\n",
       "      <td>0</td>\n",
       "      <td>0</td>\n",
       "      <td>0</td>\n",
       "      <td>0</td>\n",
       "      <td>0</td>\n",
       "      <td>...</td>\n",
       "      <td>0</td>\n",
       "      <td>0</td>\n",
       "      <td>0</td>\n",
       "      <td>0</td>\n",
       "      <td>0</td>\n",
       "      <td>0</td>\n",
       "      <td>0</td>\n",
       "      <td>0</td>\n",
       "      <td>0</td>\n",
       "      <td>0</td>\n",
       "    </tr>\n",
       "  </tbody>\n",
       "</table>\n",
       "<p>5 rows × 96 columns</p>\n",
       "</div>"
      ],
      "text/plain": [
       "   ago  art  away  ban  beautiful  best  big  birthday  black  car  ...    \\\n",
       "0    0    0     0    0          0     0    0         0      0    0  ...     \n",
       "1    0    0     0    0          0     0    0         0      0    0  ...     \n",
       "2    0    0     0    0          0     0    0         0      0    0  ...     \n",
       "3    0    0     0    0          0     0    0         0      0    0  ...     \n",
       "4    0    0     0    0          0     0    0         0      0    0  ...     \n",
       "\n",
       "   video  vs  want  way  week  won  work  world  year  years  \n",
       "0      0   0     0    0     0    0     0      0     0      0  \n",
       "1      0   0     0    0     0    0     0      0     0      0  \n",
       "2      0   0     0    0     0    0     0      0     0      0  \n",
       "3      0   0     0    0     0    0     0      0     0      0  \n",
       "4      0   0     0    0     0    0     0      0     0      0  \n",
       "\n",
       "[5 rows x 96 columns]"
      ]
     },
     "execution_count": 688,
     "metadata": {},
     "output_type": "execute_result"
    }
   ],
   "source": [
    "combined.iloc[:,18:] #only going to use the words and not the numbers"
   ]
  },
  {
   "cell_type": "code",
   "execution_count": 710,
   "metadata": {},
   "outputs": [
    {
     "data": {
      "text/plain": [
       "0.51897860593512768"
      ]
     },
     "execution_count": 710,
     "metadata": {},
     "output_type": "execute_result"
    }
   ],
   "source": [
    "X = combined.iloc[:,18:]\n",
    "y = combined['Above_Below_Median']\n",
    "X_train, X_test, y_train, y_test = train_test_split(X, y, test_size=0.3, random_state=42)\n",
    "forest = RandomForestClassifier(max_depth = 10, n_estimators=5, random_state=42)\n",
    "forest.fit(X_train, y_train)\n",
    "forest.score(X_test, y_test)    "
   ]
  },
  {
   "cell_type": "markdown",
   "metadata": {},
   "source": [
    "#### Use cross-validation in scikit-learn to evaluate the model above. \n",
    "- Evaluate the accuracy of the model, as well as any other metrics you feel are appropriate. "
   ]
  },
  {
   "cell_type": "markdown",
   "metadata": {},
   "source": [
    "I will use the evaluate_model function I created in the 4.04 Model Evaluation lab. This function calculates the confusion matrix, accuracy, sensitivity and specificity. In this situation for classification evaluation metrics, I would want to evaluate my models based on sensitivity, or the true positive rate, because among those that are actually above the median, I want to correctly predict as many of them as possible. But I wouldn't want to have such a low specificity that I miss all the false positives."
   ]
  },
  {
   "cell_type": "code",
   "execution_count": 703,
   "metadata": {
    "collapsed": true
   },
   "outputs": [],
   "source": [
    "def evaluate_model(X_train, X_test, y_train, y_test, model):\n",
    "    model.fit(X_train, y_train)\n",
    "    y_pred = model.predict(X_test)\n",
    "    conf_matrix = confusion_matrix(y_true=y_test, y_pred=y_pred)\n",
    "    tn = conf_matrix[0][0] #true negative\n",
    "    tp = conf_matrix[1][1] #true positive\n",
    "    fn = conf_matrix[1][0] #false negative \n",
    "    fp = conf_matrix[0][1] #false positive\n",
    "\n",
    "    Accuracy = (tp + tn) / (tp + tn + fp + fn)\n",
    "    Sensitivity = tp / (tp + fn)\n",
    "    Specificity = tn / (tn + fp)\n",
    "    \n",
    "    return([conf_matrix, Accuracy, Sensitivity, Specificity])"
   ]
  },
  {
   "cell_type": "markdown",
   "metadata": {},
   "source": [
    "##### Results interpretation"
   ]
  },
  {
   "cell_type": "markdown",
   "metadata": {},
   "source": [
    "- Top left = number of true negatives\n",
    "- Top Right = number of false positives\n",
    "- Bottom left = number of false negatives\n",
    "- Bottom right = number of true positives\n",
    "\n",
    "- Accuracy - first floating number\n",
    "- Sensitivity - second floating number\n",
    "- Specificity - third floating number"
   ]
  },
  {
   "cell_type": "markdown",
   "metadata": {},
   "source": [
    "### In this case, the positive is being above the median number of posts while negative is below the median number of comments."
   ]
  },
  {
   "cell_type": "markdown",
   "metadata": {},
   "source": [
    "### Our very first model: Random Forests using Subreddits only whether a post is above or below the median number of comments"
   ]
  },
  {
   "cell_type": "code",
   "execution_count": 704,
   "metadata": {},
   "outputs": [
    {
     "data": {
      "text/plain": [
       "[array([[ 58, 680],\n",
       "        [  8, 703]]),\n",
       " 0.52518978605935129,\n",
       " 0.98874824191279886,\n",
       " 0.078590785907859076]"
      ]
     },
     "execution_count": 704,
     "metadata": {},
     "output_type": "execute_result"
    }
   ],
   "source": [
    "from sklearn.metrics import confusion_matrix \n",
    "evaluate_model(X_train, X_test, y_train, y_test, forest)"
   ]
  },
  {
   "cell_type": "markdown",
   "metadata": {},
   "source": [
    "It has a very high sensitivity, meaning that it measured the proportion of positives that are correctly identified very well. It is also called the true positive rate, basically meaning how good was the model in detecting the positives. It also means that the number of false negatives are so small that the true positive rate is almost 1. It also means that the model picks up almost all the positives, but since its specificity is so low, it won't be able to pick up a lot of the false positives. I do like that it predicts almost all the true positives among the actual positives, but if it has a very low specificity, I probably would to use this model."
   ]
  },
  {
   "cell_type": "markdown",
   "metadata": {},
   "source": [
    "### Evaluation of a Random Forest model using times of day and number of upvotes to predict comments"
   ]
  },
  {
   "cell_type": "code",
   "execution_count": 773,
   "metadata": {},
   "outputs": [
    {
     "data": {
      "text/plain": [
       "[array([[528, 210],\n",
       "        [210, 501]]),\n",
       " 0.71014492753623193,\n",
       " 0.70464135021097052,\n",
       " 0.71544715447154472]"
      ]
     },
     "execution_count": 773,
     "metadata": {},
     "output_type": "execute_result"
    }
   ],
   "source": [
    "evaluate_model(X_train, X_test, y_train, y_test, forest)"
   ]
  },
  {
   "cell_type": "markdown",
   "metadata": {},
   "source": [
    "This model is much different than the previous model. The sensitivity and specificity are very similar, but are not 50-50, which would have meant that the model isn't good with discriminating from one class from another. The model does a pretty good job detecting the positives and negatives, although it is missing some false positives and false negatives."
   ]
  },
  {
   "cell_type": "markdown",
   "metadata": {},
   "source": [
    "### Evaluation of a Random Forest model using word occurrences to predict comments"
   ]
  },
  {
   "cell_type": "code",
   "execution_count": 711,
   "metadata": {},
   "outputs": [
    {
     "data": {
      "text/plain": [
       "[array([[609, 129],\n",
       "        [568, 143]]),\n",
       " 0.51897860593512768,\n",
       " 0.20112517580872011,\n",
       " 0.82520325203252032]"
      ]
     },
     "execution_count": 711,
     "metadata": {},
     "output_type": "execute_result"
    }
   ],
   "source": [
    "evaluate_model(X_train, X_test, y_train, y_test, forest)"
   ]
  },
  {
   "cell_type": "markdown",
   "metadata": {},
   "source": [
    "This model is relatively the oppositive of the first model in terms of specificity and sensitivity. It has a high specificity and low sensitivity. It means it is able to detect more true negatives than false negatives than it is able to detect more true positives than false positives. I probably don't want to use this model if I want to maximize sensitivity.\n"
   ]
  },
  {
   "cell_type": "markdown",
   "metadata": {},
   "source": [
    "# Executive Summary\n"
   ]
  },
  {
   "cell_type": "markdown",
   "metadata": {},
   "source": [
    "Please refer to the README file associated with thie project. It is attached in the repository."
   ]
  }
 ],
 "metadata": {
  "kernelspec": {
   "display_name": "Python [default]",
   "language": "python",
   "name": "python3"
  },
  "language_info": {
   "codemirror_mode": {
    "name": "ipython",
    "version": 3
   },
   "file_extension": ".py",
   "mimetype": "text/x-python",
   "name": "python",
   "nbconvert_exporter": "python",
   "pygments_lexer": "ipython3",
   "version": "3.6.4"
  }
 },
 "nbformat": 4,
 "nbformat_minor": 2
}
